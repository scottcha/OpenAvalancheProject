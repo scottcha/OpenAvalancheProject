{
 "cells": [
  {
   "cell_type": "code",
   "execution_count": null,
   "metadata": {},
   "outputs": [],
   "source": [
    "%reload_ext autoreload\n",
    "%autoreload 2\n",
    "%matplotlib inline"
   ]
  },
  {
   "cell_type": "code",
   "execution_count": null,
   "metadata": {},
   "outputs": [],
   "source": [
    "import numpy as np\n",
    "from sklearn.pipeline import Pipeline\n",
    "from sktime.classification.compose import ColumnEnsembleClassifier\n",
    "from sktime.classification.compose import TimeSeriesForestClassifier\n",
    "from sktime.classification.dictionary_based import BOSSEnsemble\n",
    "from sktime.classification.shapelet_based import MrSEQLClassifier\n",
    "from sktime.datasets import load_basic_motions\n",
    "from sktime.transformers.series_as_features.compose import ColumnConcatenator\n",
    "from sklearn.model_selection import train_test_split\n",
    "import pandas as pd"
   ]
  },
  {
   "cell_type": "code",
   "execution_count": null,
   "metadata": {},
   "outputs": [],
   "source": [
    "data_root = '/media/scottcha/E1/Data/Temp/Tutorial/'\n",
    "ml_path = data_root + '/5.MLData/'\n",
    "num_features = 978\n",
    "interpolation = 1"
   ]
  },
  {
   "cell_type": "code",
   "execution_count": null,
   "metadata": {},
   "outputs": [],
   "source": [
    "#load the full X datafile which has both Train and Test concated\n",
    "X = np.load(ml_path + '/X_all.npy', mmap_mode='r')"
   ]
  },
  {
   "cell_type": "code",
   "execution_count": null,
   "metadata": {},
   "outputs": [],
   "source": [
    "#read in the corresponding label files and concat them\n",
    "#can get the right values here based on the contents of hte ml_path directory\n",
    "num_y_batches = 1\n",
    "num_y_train_files_per_batch = 20\n",
    "num_y_test_batches = 1\n",
    "num_y_test_files_per_batch = 1\n",
    "\n",
    "\n",
    "y_df = None\n",
    "for i in range(0, num_y_batches):\n",
    "    for j in range(0, num_y_train_files_per_batch):\n",
    "        df = pd.read_parquet(ml_path + '/y_train_batch_' + str(i) + '_' + str(j) + '.0.parquet')  \n",
    "        y_df = pd.concat([y_df, df])\n",
    "\n",
    "for i in range(0, num_y_test_batches):\n",
    "    for j in range(0, num_y_test_files_per_batch):\n",
    "        df = pd.read_parquet(ml_path + '/y_test_batch_' + str(i) + '_' + str(j) + '.0.parquet')  \n",
    "        y_df = pd.concat([y_df, df])"
   ]
  },
  {
   "cell_type": "code",
   "execution_count": null,
   "metadata": {},
   "outputs": [
    {
     "data": {
      "text/plain": [
       "(10500, 978, 180)"
      ]
     },
     "execution_count": null,
     "metadata": {},
     "output_type": "execute_result"
    }
   ],
   "source": [
    "X.shape"
   ]
  },
  {
   "cell_type": "code",
   "execution_count": null,
   "metadata": {},
   "outputs": [],
   "source": [
    "#convert the labels to encoded values\n",
    "y_df['Day1AboveCat'] = y_df['Day1DangerAboveTreeline'].astype('category')\n",
    "y = y_df['Day1AboveCat'].cat.codes.values"
   ]
  },
  {
   "cell_type": "code",
   "execution_count": null,
   "metadata": {},
   "outputs": [],
   "source": [
    "feature_means = np.load(ml_path + '/feature_means_interpolation1x.npy')\n",
    "feature_means = (np.nan_to_num(feature_means))"
   ]
  },
  {
   "cell_type": "code",
   "execution_count": null,
   "metadata": {},
   "outputs": [],
   "source": [
    "X2 = np.zeros_like(X)"
   ]
  },
  {
   "cell_type": "code",
   "execution_count": null,
   "metadata": {},
   "outputs": [],
   "source": [
    "for i in range(X.shape[1]):\n",
    "    X2[:,i,:] = np.nan_to_num(X[:,i,:], nan=feature_means[i])"
   ]
  },
  {
   "cell_type": "code",
   "execution_count": null,
   "metadata": {},
   "outputs": [],
   "source": [
    "np.save(ml_path + 'X_noNan', X2)"
   ]
  },
  {
   "cell_type": "code",
   "execution_count": null,
   "metadata": {},
   "outputs": [],
   "source": [
    "del X2"
   ]
  },
  {
   "cell_type": "code",
   "execution_count": null,
   "metadata": {},
   "outputs": [],
   "source": [
    "X = np.load(ml_path + 'X_noNan.np.npy', mmap_mode='r')"
   ]
  },
  {
   "cell_type": "code",
   "execution_count": null,
   "metadata": {},
   "outputs": [],
   "source": []
  },
  {
   "cell_type": "code",
   "execution_count": null,
   "metadata": {},
   "outputs": [],
   "source": [
    "%%time\n",
    "steps = [\n",
    "    ('concatenate', ColumnConcatenator()),\n",
    "    ('classify', TimeSeriesForestClassifier(n_estimators=25, n_jobs=4 ))]\n",
    "clf = Pipeline(steps)\n",
    "clf.fit(X[:10000,:,:], y[:10000])"
   ]
  },
  {
   "cell_type": "code",
   "execution_count": null,
   "metadata": {},
   "outputs": [
    {
     "data": {
      "text/plain": [
       "0.154"
      ]
     },
     "execution_count": null,
     "metadata": {},
     "output_type": "execute_result"
    }
   ],
   "source": [
    "clf.score(X2[10000:,:,:], y[10000:])"
   ]
  },
  {
   "cell_type": "code",
   "execution_count": null,
   "metadata": {},
   "outputs": [],
   "source": []
  }
 ],
 "metadata": {
  "kernelspec": {
   "display_name": "Python [conda env:sktime]",
   "language": "python",
   "name": "conda-env-sktime-py"
  },
  "language_info": {
   "codemirror_mode": {
    "name": "ipython",
    "version": 3
   },
   "file_extension": ".py",
   "mimetype": "text/x-python",
   "name": "python",
   "nbconvert_exporter": "python",
   "pygments_lexer": "ipython3",
   "version": "3.8.5"
  }
 },
 "nbformat": 4,
 "nbformat_minor": 2
}
