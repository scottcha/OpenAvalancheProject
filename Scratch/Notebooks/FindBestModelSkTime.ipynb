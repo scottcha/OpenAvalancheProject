{
 "cells": [
  {
   "cell_type": "markdown",
   "metadata": {},
   "source": [
    "# Notebook demonstrating the use of Timeseriesai for generating predictions\n",
    "https://github.com/timeseriesAI/timeseriesAI\n",
    "\n",
    "## The below is done using the tutorial data set (one state, one season) and is a very small dataset so the results are only intended for use on how to use this, not necessarily what the ML capability is"
   ]
  },
  {
   "cell_type": "markdown",
   "metadata": {},
   "source": [
    "### uses env timeseriesai"
   ]
  },
  {
   "cell_type": "code",
   "execution_count": 1,
   "metadata": {},
   "outputs": [],
   "source": [
    "%reload_ext autoreload\n",
    "%autoreload 2\n",
    "#%matplotlib inline"
   ]
  },
  {
   "cell_type": "code",
   "execution_count": 2,
   "metadata": {},
   "outputs": [],
   "source": [
    "#from tsai.all import *\n",
    "#from joblib import Parallel, delayed\n",
    "from openavalancheproject.tsai_utilities import *\n",
    "import numpy as np\n",
    "import pandas as pd"
   ]
  },
  {
   "cell_type": "code",
   "execution_count": 3,
   "metadata": {},
   "outputs": [],
   "source": [
    "data_root = '/media/scottcha/Data2/OAPMLData/'\n",
    "\n",
    "ml_path = data_root + '/5.MLData/'\n",
    "num_features = 771\n",
    "interpolation = 1\n",
    "label = 'Day1DangerAboveTreeline'\n",
    "file_label = 'co_day1above_nooversample_med'\n",
    "#file_label = 'day1above'\n",
    "#label = 'Day1DangerAboveTreeline'"
   ]
  },
  {
   "cell_type": "code",
   "execution_count": 4,
   "metadata": {},
   "outputs": [],
   "source": [
    "#load the full X datafile which has both Train and Test concated\n",
    "X = np.load(ml_path + '/X_all_' + file_label + '.npy', mmap_mode='r')"
   ]
  },
  {
   "cell_type": "code",
   "execution_count": 5,
   "metadata": {},
   "outputs": [
    {
     "data": {
      "text/plain": [
       "(12000, 771, 180)"
      ]
     },
     "execution_count": 5,
     "metadata": {},
     "output_type": "execute_result"
    }
   ],
   "source": [
    "X.shape"
   ]
  },
  {
   "cell_type": "code",
   "execution_count": 6,
   "metadata": {},
   "outputs": [],
   "source": [
    "utils = TSAIUtilities(X, label)"
   ]
  },
  {
   "cell_type": "code",
   "execution_count": 7,
   "metadata": {},
   "outputs": [],
   "source": [
    "X = X[:,:,:]"
   ]
  },
  {
   "cell_type": "code",
   "execution_count": 8,
   "metadata": {},
   "outputs": [],
   "source": [
    "#read in the corresponding label files and concat them\n",
    "#can get the right values here based on the contents of hte ml_path directory\n",
    "\n",
    "num_train_files = 2\n",
    "file_list = []\n",
    "for i in range(num_train_files):\n",
    "    file_list.append(pd.read_parquet(ml_path + '/y_train_batch_' + str(i) + '_' + file_label + '.parquet'))\n",
    "\n",
    "    \n",
    "num_test_files = 1\n",
    "for i in range(num_test_files):\n",
    "    file_list.append(pd.read_parquet(ml_path + '/y_test_batch_' + str(i) + '_' + file_label + '.parquet'))\n",
    "    \n",
    "y_df = pd.concat(file_list).reset_index(drop=True)"
   ]
  },
  {
   "cell_type": "code",
   "execution_count": 9,
   "metadata": {},
   "outputs": [
    {
     "data": {
      "text/plain": [
       "Considerable    3017\n",
       "Low             3017\n",
       "Moderate        3016\n",
       "High            2950\n",
       "Name: Day1DangerAboveTreeline, dtype: int64"
      ]
     },
     "execution_count": 9,
     "metadata": {},
     "output_type": "execute_result"
    }
   ],
   "source": [
    "y_df['Day1DangerAboveTreeline'].value_counts()"
   ]
  },
  {
   "cell_type": "code",
   "execution_count": 10,
   "metadata": {},
   "outputs": [
    {
     "data": {
      "text/plain": [
       "12000"
      ]
     },
     "execution_count": 10,
     "metadata": {},
     "output_type": "execute_result"
    }
   ],
   "source": [
    "y_df.shape[0]"
   ]
  },
  {
   "cell_type": "code",
   "execution_count": 11,
   "metadata": {},
   "outputs": [],
   "source": [
    "X = X[:y_df.shape[0], :, :]"
   ]
  },
  {
   "cell_type": "code",
   "execution_count": 12,
   "metadata": {},
   "outputs": [
    {
     "data": {
      "text/plain": [
       "(12000, 771, 180)"
      ]
     },
     "execution_count": 12,
     "metadata": {},
     "output_type": "execute_result"
    }
   ],
   "source": [
    "X.shape"
   ]
  },
  {
   "cell_type": "code",
   "execution_count": 13,
   "metadata": {},
   "outputs": [
    {
     "data": {
      "text/plain": [
       "(12000, 302)"
      ]
     },
     "execution_count": 13,
     "metadata": {},
     "output_type": "execute_result"
    }
   ],
   "source": [
    "y_df.shape"
   ]
  },
  {
   "cell_type": "code",
   "execution_count": 14,
   "metadata": {},
   "outputs": [],
   "source": [
    "no_dupes = y_df.drop_duplicates()"
   ]
  },
  {
   "cell_type": "code",
   "execution_count": 15,
   "metadata": {},
   "outputs": [
    {
     "data": {
      "text/plain": [
       "(12000, 302)"
      ]
     },
     "execution_count": 15,
     "metadata": {},
     "output_type": "execute_result"
    }
   ],
   "source": [
    "no_dupes.shape"
   ]
  },
  {
   "cell_type": "code",
   "execution_count": 16,
   "metadata": {},
   "outputs": [
    {
     "data": {
      "text/plain": [
       "18-19    2758\n",
       "17-18    2166\n",
       "20-21    2000\n",
       "15-16    1797\n",
       "16-17    1693\n",
       "19-20    1586\n",
       "Name: season, dtype: int64"
      ]
     },
     "execution_count": 16,
     "metadata": {},
     "output_type": "execute_result"
    }
   ],
   "source": [
    "y_df['season'].value_counts()"
   ]
  },
  {
   "cell_type": "code",
   "execution_count": 17,
   "metadata": {},
   "outputs": [
    {
     "data": {
      "text/plain": [
       "2017-01-10    111\n",
       "2019-03-07    110\n",
       "2019-03-13    103\n",
       "2019-03-09     96\n",
       "2020-12-29     96\n",
       "             ... \n",
       "2015-11-19      1\n",
       "2017-01-29      1\n",
       "2017-02-03      1\n",
       "2016-11-20      1\n",
       "2020-12-17      1\n",
       "Name: parsed_date, Length: 933, dtype: int64"
      ]
     },
     "execution_count": 17,
     "metadata": {},
     "output_type": "execute_result"
    }
   ],
   "source": [
    "y_df['parsed_date'].value_counts()"
   ]
  },
  {
   "cell_type": "code",
   "execution_count": 18,
   "metadata": {},
   "outputs": [
    {
     "data": {
      "text/plain": [
       "Considerable    3017\n",
       "Low             3017\n",
       "Moderate        3016\n",
       "High            2950\n",
       "Name: Day1DangerAboveTreeline, dtype: int64"
      ]
     },
     "execution_count": 18,
     "metadata": {},
     "output_type": "execute_result"
    }
   ],
   "source": [
    "y_df[label].value_counts()"
   ]
  },
  {
   "cell_type": "code",
   "execution_count": 19,
   "metadata": {},
   "outputs": [
    {
     "data": {
      "text/plain": [
       "{0: 'Low', 1: 'Moderate', 2: 'Considerable', 3: 'High'}"
      ]
     },
     "execution_count": 19,
     "metadata": {},
     "output_type": "execute_result"
    }
   ],
   "source": [
    "y, cat_dict = utils.get_y_as_cat(y_df)\n",
    "cat_dict"
   ]
  },
  {
   "cell_type": "code",
   "execution_count": 20,
   "metadata": {},
   "outputs": [],
   "source": [
    "feature_names = pd.read_csv(ml_path + '/FeatureLabels_' + file_label + '.csv')\n",
    "feature_names = feature_names['0'].sort_values().values"
   ]
  },
  {
   "cell_type": "code",
   "execution_count": 21,
   "metadata": {},
   "outputs": [
    {
     "data": {
      "text/plain": [
       "(771,)"
      ]
     },
     "execution_count": 21,
     "metadata": {},
     "output_type": "execute_result"
    }
   ],
   "source": [
    "feature_names.shape"
   ]
  },
  {
   "cell_type": "code",
   "execution_count": 22,
   "metadata": {},
   "outputs": [
    {
     "data": {
      "text/plain": [
       "(12000, 771, 180)"
      ]
     },
     "execution_count": 22,
     "metadata": {},
     "output_type": "execute_result"
    }
   ],
   "source": [
    "X.shape"
   ]
  },
  {
   "cell_type": "code",
   "execution_count": 23,
   "metadata": {},
   "outputs": [],
   "source": [
    "import xarray as xr"
   ]
  },
  {
   "cell_type": "code",
   "execution_count": 24,
   "metadata": {},
   "outputs": [],
   "source": [
    "da = xr.DataArray(X, dims=['sample','feature', 'timestep'], coords=[range(0,12000),feature_names,range(0,180)])"
   ]
  },
  {
   "cell_type": "code",
   "execution_count": 25,
   "metadata": {},
   "outputs": [
    {
     "data": {
      "text/plain": [
       "array(['ABSV_1000mb_avg', 'ABSV_1000mb_max', 'ABSV_1000mb_min',\n",
       "       'ABSV_100mb_avg', 'ABSV_100mb_max', 'ABSV_100mb_min',\n",
       "       'ABSV_10mb_avg', 'ABSV_10mb_max', 'ABSV_10mb_min',\n",
       "       'ABSV_150mb_avg', 'ABSV_150mb_max', 'ABSV_150mb_min',\n",
       "       'ABSV_200mb_avg', 'ABSV_200mb_max', 'ABSV_200mb_min',\n",
       "       'ABSV_20mb_avg', 'ABSV_20mb_max', 'ABSV_20mb_min',\n",
       "       'ABSV_250mb_avg', 'ABSV_250mb_max', 'ABSV_250mb_min',\n",
       "       'ABSV_300mb_avg', 'ABSV_300mb_max', 'ABSV_300mb_min',\n",
       "       'ABSV_30mb_avg', 'ABSV_30mb_max', 'ABSV_30mb_min',\n",
       "       'ABSV_350mb_avg', 'ABSV_350mb_max', 'ABSV_350mb_min',\n",
       "       'ABSV_400mb_avg', 'ABSV_400mb_max', 'ABSV_400mb_min',\n",
       "       'ABSV_450mb_avg', 'ABSV_450mb_max', 'ABSV_450mb_min',\n",
       "       'ABSV_500mb_avg', 'ABSV_500mb_max', 'ABSV_500mb_min',\n",
       "       'ABSV_50mb_avg', 'ABSV_50mb_max', 'ABSV_50mb_min',\n",
       "       'ABSV_550mb_avg', 'ABSV_550mb_max', 'ABSV_550mb_min',\n",
       "       'ABSV_600mb_avg', 'ABSV_600mb_max', 'ABSV_600mb_min',\n",
       "       'ABSV_650mb_avg', 'ABSV_650mb_max', 'ABSV_650mb_min',\n",
       "       'ABSV_700mb_avg', 'ABSV_700mb_max', 'ABSV_700mb_min',\n",
       "       'ABSV_70mb_avg', 'ABSV_70mb_max', 'ABSV_70mb_min',\n",
       "       'ABSV_750mb_avg', 'ABSV_750mb_max', 'ABSV_750mb_min',\n",
       "       'ABSV_800mb_avg', 'ABSV_800mb_max', 'ABSV_800mb_min',\n",
       "       'ABSV_850mb_avg', 'ABSV_850mb_max', 'ABSV_850mb_min',\n",
       "       'ABSV_900mb_avg', 'ABSV_900mb_max', 'ABSV_900mb_min',\n",
       "       'ABSV_925mb_avg', 'ABSV_925mb_max', 'ABSV_925mb_min',\n",
       "       'ABSV_950mb_avg', 'ABSV_950mb_max', 'ABSV_950mb_min',\n",
       "       'ABSV_975mb_avg', 'ABSV_975mb_max', 'ABSV_975mb_min',\n",
       "       'APTMP_2maboveground_avg', 'APTMP_2maboveground_max',\n",
       "       'APTMP_2maboveground_min', 'CAPE_180M0mbaboveground_avg',\n",
       "       'CAPE_180M0mbaboveground_max', 'CAPE_180M0mbaboveground_min',\n",
       "       'CAPE_255M0mbaboveground_avg', 'CAPE_255M0mbaboveground_max',\n",
       "       'CAPE_255M0mbaboveground_min', 'CAPE_surface_avg',\n",
       "       'CAPE_surface_max', 'CAPE_surface_min',\n",
       "       'CIN_180M0mbaboveground_avg', 'CIN_180M0mbaboveground_max',\n",
       "       'CIN_180M0mbaboveground_min', 'CIN_255M0mbaboveground_avg',\n",
       "       'CIN_255M0mbaboveground_max', 'CIN_255M0mbaboveground_min',\n",
       "       'CIN_surface_avg', 'CIN_surface_max', 'CIN_surface_min',\n",
       "       'CPOFP_surface_avg', 'CPOFP_surface_max', 'CPOFP_surface_min',\n",
       "       'DPT_2maboveground_avg', 'DPT_2maboveground_max',\n",
       "       'DPT_2maboveground_min', 'GUST_surface_avg', 'GUST_surface_max',\n",
       "       'GUST_surface_min', 'HGT_0Cisotherm_avg', 'HGT_0Cisotherm_max',\n",
       "       'HGT_0Cisotherm_min', 'HGT_1000mb_avg', 'HGT_1000mb_max',\n",
       "       'HGT_1000mb_min', 'HGT_100mb_avg', 'HGT_100mb_max',\n",
       "       'HGT_100mb_min', 'HGT_10mb_avg', 'HGT_10mb_max', 'HGT_10mb_min',\n",
       "       'HGT_150mb_avg', 'HGT_150mb_max', 'HGT_150mb_min', 'HGT_200mb_avg',\n",
       "       'HGT_200mb_max', 'HGT_200mb_min', 'HGT_20mb_avg', 'HGT_20mb_max',\n",
       "       'HGT_20mb_min', 'HGT_250mb_avg', 'HGT_250mb_max', 'HGT_250mb_min',\n",
       "       'HGT_300mb_avg', 'HGT_300mb_max', 'HGT_300mb_min', 'HGT_30mb_avg',\n",
       "       'HGT_30mb_max', 'HGT_30mb_min', 'HGT_350mb_avg', 'HGT_350mb_max',\n",
       "       'HGT_350mb_min', 'HGT_400mb_avg', 'HGT_400mb_max', 'HGT_400mb_min',\n",
       "       'HGT_450mb_avg', 'HGT_450mb_max', 'HGT_450mb_min', 'HGT_500mb_avg',\n",
       "       'HGT_500mb_max', 'HGT_500mb_min', 'HGT_50mb_avg', 'HGT_50mb_max',\n",
       "       'HGT_50mb_min', 'HGT_550mb_avg', 'HGT_550mb_max', 'HGT_550mb_min',\n",
       "       'HGT_600mb_avg', 'HGT_600mb_max', 'HGT_600mb_min', 'HGT_650mb_avg',\n",
       "       'HGT_650mb_max', 'HGT_650mb_min', 'HGT_700mb_avg', 'HGT_700mb_max',\n",
       "       'HGT_700mb_min', 'HGT_70mb_avg', 'HGT_70mb_max', 'HGT_70mb_min',\n",
       "       'HGT_750mb_avg', 'HGT_750mb_max', 'HGT_750mb_min', 'HGT_800mb_avg',\n",
       "       'HGT_800mb_max', 'HGT_800mb_min', 'HGT_850mb_avg', 'HGT_850mb_max',\n",
       "       'HGT_850mb_min', 'HGT_900mb_avg', 'HGT_900mb_max', 'HGT_900mb_min',\n",
       "       'HGT_925mb_avg', 'HGT_925mb_max', 'HGT_925mb_min', 'HGT_950mb_avg',\n",
       "       'HGT_950mb_max', 'HGT_950mb_min', 'HGT_975mb_avg', 'HGT_975mb_max',\n",
       "       'HGT_975mb_min', 'HGT_PV_EQ_2eM06_Km_2_kg_s_surface_avg',\n",
       "       'HGT_PV_EQ_2eM06_Km_2_kg_s_surface_max',\n",
       "       'HGT_PV_EQ_2eM06_Km_2_kg_s_surface_min', 'HGT_maxwind_avg',\n",
       "       'HGT_maxwind_max', 'HGT_maxwind_min', 'HGT_surface_avg',\n",
       "       'HGT_surface_max', 'HGT_surface_min', 'HGT_tropopause_avg',\n",
       "       'HGT_tropopause_max', 'HGT_tropopause_min', 'HINDEX_surface_avg',\n",
       "       'HINDEX_surface_max', 'HINDEX_surface_min',\n",
       "       'HLCY_3000M0maboveground_avg', 'HLCY_3000M0maboveground_max',\n",
       "       'HLCY_3000M0maboveground_min', 'ICAHT_maxwind_avg',\n",
       "       'ICAHT_maxwind_max', 'ICAHT_maxwind_min', 'ICAHT_tropopause_avg',\n",
       "       'ICAHT_tropopause_max', 'ICAHT_tropopause_min', 'ICEC_surface_avg',\n",
       "       'ICEC_surface_max', 'ICEC_surface_min', 'LAND_surface_avg',\n",
       "       'LAND_surface_max', 'LAND_surface_min', 'POT_0D995sigmalevel_avg',\n",
       "       'POT_0D995sigmalevel_max', 'POT_0D995sigmalevel_min',\n",
       "       'PRES_80maboveground_avg', 'PRES_80maboveground_max',\n",
       "       'PRES_80maboveground_min',\n",
       "       'PRES_PV_EQ_2eM06_Km_2_kg_s_surface_avg',\n",
       "       'PRES_PV_EQ_2eM06_Km_2_kg_s_surface_max',\n",
       "       'PRES_PV_EQ_2eM06_Km_2_kg_s_surface_min', 'PRES_maxwind_avg',\n",
       "       'PRES_maxwind_max', 'PRES_maxwind_min', 'PRES_surface_avg',\n",
       "       'PRES_surface_max', 'PRES_surface_min', 'PRES_tropopause_avg',\n",
       "       'PRES_tropopause_max', 'PRES_tropopause_min',\n",
       "       'PRMSL_meansealevel_avg', 'PRMSL_meansealevel_max',\n",
       "       'PRMSL_meansealevel_min', 'RH_0Cisotherm_avg', 'RH_0Cisotherm_max',\n",
       "       'RH_0Cisotherm_min', 'RH_0D33M1sigmalayer_avg',\n",
       "       'RH_0D33M1sigmalayer_max', 'RH_0D33M1sigmalayer_min',\n",
       "       'RH_0D44M0D72sigmalayer_avg', 'RH_0D44M0D72sigmalayer_max',\n",
       "       'RH_0D44M0D72sigmalayer_min', 'RH_0D44M1sigmalayer_avg',\n",
       "       'RH_0D44M1sigmalayer_max', 'RH_0D44M1sigmalayer_min',\n",
       "       'RH_0D72M0D94sigmalayer_avg', 'RH_0D72M0D94sigmalayer_max',\n",
       "       'RH_0D72M0D94sigmalayer_min', 'RH_0D995sigmalevel_avg',\n",
       "       'RH_0D995sigmalevel_max', 'RH_0D995sigmalevel_min',\n",
       "       'RH_1000mb_avg', 'RH_1000mb_max', 'RH_1000mb_min', 'RH_100mb_avg',\n",
       "       'RH_100mb_max', 'RH_100mb_min', 'RH_10mb_avg', 'RH_10mb_max',\n",
       "       'RH_10mb_min', 'RH_150mb_avg', 'RH_150mb_max', 'RH_150mb_min',\n",
       "       'RH_200mb_avg', 'RH_200mb_max', 'RH_200mb_min', 'RH_20mb_avg',\n",
       "       'RH_20mb_max', 'RH_20mb_min', 'RH_250mb_avg', 'RH_250mb_max',\n",
       "       'RH_250mb_min', 'RH_2maboveground_avg', 'RH_2maboveground_max',\n",
       "       'RH_2maboveground_min', 'RH_300mb_avg', 'RH_300mb_max',\n",
       "       'RH_300mb_min', 'RH_30M0mbaboveground_avg',\n",
       "       'RH_30M0mbaboveground_max', 'RH_30M0mbaboveground_min',\n",
       "       'RH_30mb_avg', 'RH_30mb_max', 'RH_30mb_min', 'RH_350mb_avg',\n",
       "       'RH_350mb_max', 'RH_350mb_min', 'RH_400mb_avg', 'RH_400mb_max',\n",
       "       'RH_400mb_min', 'RH_450mb_avg', 'RH_450mb_max', 'RH_450mb_min',\n",
       "       'RH_500mb_avg', 'RH_500mb_max', 'RH_500mb_min', 'RH_50mb_avg',\n",
       "       'RH_50mb_max', 'RH_50mb_min', 'RH_550mb_avg', 'RH_550mb_max',\n",
       "       'RH_550mb_min', 'RH_600mb_avg', 'RH_600mb_max', 'RH_600mb_min',\n",
       "       'RH_650mb_avg', 'RH_650mb_max', 'RH_650mb_min', 'RH_700mb_avg',\n",
       "       'RH_700mb_max', 'RH_700mb_min', 'RH_70mb_avg', 'RH_70mb_max',\n",
       "       'RH_70mb_min', 'RH_750mb_avg', 'RH_750mb_max', 'RH_750mb_min',\n",
       "       'RH_800mb_avg', 'RH_800mb_max', 'RH_800mb_min', 'RH_850mb_avg',\n",
       "       'RH_850mb_max', 'RH_850mb_min', 'RH_900mb_avg', 'RH_900mb_max',\n",
       "       'RH_900mb_min', 'RH_925mb_avg', 'RH_925mb_max', 'RH_925mb_min',\n",
       "       'RH_950mb_avg', 'RH_950mb_max', 'RH_950mb_min', 'RH_975mb_avg',\n",
       "       'RH_975mb_max', 'RH_975mb_min', 'SNOD_surface_avg',\n",
       "       'SNOD_surface_max', 'SNOD_surface_min', 'SPFH_2maboveground_avg',\n",
       "       'SPFH_2maboveground_max', 'SPFH_2maboveground_min',\n",
       "       'SPFH_30M0mbaboveground_avg', 'SPFH_30M0mbaboveground_max',\n",
       "       'SPFH_30M0mbaboveground_min', 'SPFH_80maboveground_avg',\n",
       "       'SPFH_80maboveground_max', 'SPFH_80maboveground_min',\n",
       "       'TMP_0D995sigmalevel_avg', 'TMP_0D995sigmalevel_max',\n",
       "       'TMP_0D995sigmalevel_min', 'TMP_1000mb_avg', 'TMP_1000mb_max',\n",
       "       'TMP_1000mb_min', 'TMP_100maboveground_avg',\n",
       "       'TMP_100maboveground_max', 'TMP_100maboveground_min',\n",
       "       'TMP_100mb_avg', 'TMP_100mb_max', 'TMP_100mb_min', 'TMP_10mb_avg',\n",
       "       'TMP_10mb_max', 'TMP_10mb_min', 'TMP_150mb_avg', 'TMP_150mb_max',\n",
       "       'TMP_150mb_min', 'TMP_1829mabovemeansealevel_avg',\n",
       "       'TMP_1829mabovemeansealevel_max', 'TMP_1829mabovemeansealevel_min',\n",
       "       'TMP_200mb_avg', 'TMP_200mb_max', 'TMP_200mb_min', 'TMP_20mb_avg',\n",
       "       'TMP_20mb_max', 'TMP_20mb_min', 'TMP_250mb_avg', 'TMP_250mb_max',\n",
       "       'TMP_250mb_min', 'TMP_2743mabovemeansealevel_avg',\n",
       "       'TMP_2743mabovemeansealevel_max', 'TMP_2743mabovemeansealevel_min',\n",
       "       'TMP_2maboveground_avg', 'TMP_2maboveground_max',\n",
       "       'TMP_2maboveground_min', 'TMP_300mb_avg', 'TMP_300mb_max',\n",
       "       'TMP_300mb_min', 'TMP_30M0mbaboveground_avg',\n",
       "       'TMP_30M0mbaboveground_max', 'TMP_30M0mbaboveground_min',\n",
       "       'TMP_30mb_avg', 'TMP_30mb_max', 'TMP_30mb_min', 'TMP_350mb_avg',\n",
       "       'TMP_350mb_max', 'TMP_350mb_min', 'TMP_3658mabovemeansealevel_avg',\n",
       "       'TMP_3658mabovemeansealevel_max', 'TMP_3658mabovemeansealevel_min',\n",
       "       'TMP_400mb_avg', 'TMP_400mb_max', 'TMP_400mb_min', 'TMP_450mb_avg',\n",
       "       'TMP_450mb_max', 'TMP_450mb_min', 'TMP_500mb_avg', 'TMP_500mb_max',\n",
       "       'TMP_500mb_min', 'TMP_50mb_avg', 'TMP_50mb_max', 'TMP_50mb_min',\n",
       "       'TMP_550mb_avg', 'TMP_550mb_max', 'TMP_550mb_min', 'TMP_600mb_avg',\n",
       "       'TMP_600mb_max', 'TMP_600mb_min', 'TMP_650mb_avg', 'TMP_650mb_max',\n",
       "       'TMP_650mb_min', 'TMP_700mb_avg', 'TMP_700mb_max', 'TMP_700mb_min',\n",
       "       'TMP_70mb_avg', 'TMP_70mb_max', 'TMP_70mb_min', 'TMP_750mb_avg',\n",
       "       'TMP_750mb_max', 'TMP_750mb_min', 'TMP_800mb_avg', 'TMP_800mb_max',\n",
       "       'TMP_800mb_min', 'TMP_80maboveground_avg',\n",
       "       'TMP_80maboveground_max', 'TMP_80maboveground_min',\n",
       "       'TMP_850mb_avg', 'TMP_850mb_max', 'TMP_850mb_min', 'TMP_900mb_avg',\n",
       "       'TMP_900mb_max', 'TMP_900mb_min', 'TMP_925mb_avg', 'TMP_925mb_max',\n",
       "       'TMP_925mb_min', 'TMP_950mb_avg', 'TMP_950mb_max', 'TMP_950mb_min',\n",
       "       'TMP_975mb_avg', 'TMP_975mb_max', 'TMP_975mb_min',\n",
       "       'TMP_PV_EQ_2eM06_Km_2_kg_s_surface_avg',\n",
       "       'TMP_PV_EQ_2eM06_Km_2_kg_s_surface_max',\n",
       "       'TMP_PV_EQ_2eM06_Km_2_kg_s_surface_min', 'TMP_maxwind_avg',\n",
       "       'TMP_maxwind_max', 'TMP_maxwind_min', 'TMP_surface_avg',\n",
       "       'TMP_surface_max', 'TMP_surface_min', 'TMP_tropopause_avg',\n",
       "       'TMP_tropopause_max', 'TMP_tropopause_min',\n",
       "       'TSOIL_0D1M0D4mbelowground_avg', 'TSOIL_0D1M0D4mbelowground_max',\n",
       "       'TSOIL_0D1M0D4mbelowground_min', 'TSOIL_0D4M1mbelowground_avg',\n",
       "       'TSOIL_0D4M1mbelowground_max', 'TSOIL_0D4M1mbelowground_min',\n",
       "       'TSOIL_0M0D1mbelowground_avg', 'TSOIL_0M0D1mbelowground_max',\n",
       "       'TSOIL_0M0D1mbelowground_min', 'TSOIL_1M2mbelowground_avg',\n",
       "       'TSOIL_1M2mbelowground_max', 'TSOIL_1M2mbelowground_min',\n",
       "       'UGRD_0D995sigmalevel_avg', 'UGRD_0D995sigmalevel_max',\n",
       "       'UGRD_0D995sigmalevel_min', 'UGRD_1000mb_avg', 'UGRD_1000mb_max',\n",
       "       'UGRD_1000mb_min', 'UGRD_100maboveground_avg',\n",
       "       'UGRD_100maboveground_max', 'UGRD_100maboveground_min',\n",
       "       'UGRD_100mb_avg', 'UGRD_100mb_max', 'UGRD_100mb_min',\n",
       "       'UGRD_10maboveground_avg', 'UGRD_10maboveground_max',\n",
       "       'UGRD_10maboveground_min', 'UGRD_10mb_avg', 'UGRD_10mb_max',\n",
       "       'UGRD_10mb_min', 'UGRD_150mb_avg', 'UGRD_150mb_max',\n",
       "       'UGRD_150mb_min', 'UGRD_1829mabovemeansealevel_avg',\n",
       "       'UGRD_1829mabovemeansealevel_max',\n",
       "       'UGRD_1829mabovemeansealevel_min', 'UGRD_200mb_avg',\n",
       "       'UGRD_200mb_max', 'UGRD_200mb_min', 'UGRD_20mb_avg',\n",
       "       'UGRD_20mb_max', 'UGRD_20mb_min', 'UGRD_250mb_avg',\n",
       "       'UGRD_250mb_max', 'UGRD_250mb_min',\n",
       "       'UGRD_2743mabovemeansealevel_avg',\n",
       "       'UGRD_2743mabovemeansealevel_max',\n",
       "       'UGRD_2743mabovemeansealevel_min', 'UGRD_300mb_avg',\n",
       "       'UGRD_300mb_max', 'UGRD_300mb_min', 'UGRD_30M0mbaboveground_avg',\n",
       "       'UGRD_30M0mbaboveground_max', 'UGRD_30M0mbaboveground_min',\n",
       "       'UGRD_30mb_avg', 'UGRD_30mb_max', 'UGRD_30mb_min',\n",
       "       'UGRD_350mb_avg', 'UGRD_350mb_max', 'UGRD_350mb_min',\n",
       "       'UGRD_3658mabovemeansealevel_avg',\n",
       "       'UGRD_3658mabovemeansealevel_max',\n",
       "       'UGRD_3658mabovemeansealevel_min', 'UGRD_400mb_avg',\n",
       "       'UGRD_400mb_max', 'UGRD_400mb_min', 'UGRD_450mb_avg',\n",
       "       'UGRD_450mb_max', 'UGRD_450mb_min', 'UGRD_500mb_avg',\n",
       "       'UGRD_500mb_max', 'UGRD_500mb_min', 'UGRD_50mb_avg',\n",
       "       'UGRD_50mb_max', 'UGRD_50mb_min', 'UGRD_550mb_avg',\n",
       "       'UGRD_550mb_max', 'UGRD_550mb_min', 'UGRD_600mb_avg',\n",
       "       'UGRD_600mb_max', 'UGRD_600mb_min', 'UGRD_650mb_avg',\n",
       "       'UGRD_650mb_max', 'UGRD_650mb_min', 'UGRD_700mb_avg',\n",
       "       'UGRD_700mb_max', 'UGRD_700mb_min', 'UGRD_70mb_avg',\n",
       "       'UGRD_70mb_max', 'UGRD_70mb_min', 'UGRD_750mb_avg',\n",
       "       'UGRD_750mb_max', 'UGRD_750mb_min', 'UGRD_800mb_avg',\n",
       "       'UGRD_800mb_max', 'UGRD_800mb_min', 'UGRD_80maboveground_avg',\n",
       "       'UGRD_80maboveground_max', 'UGRD_80maboveground_min',\n",
       "       'UGRD_850mb_avg', 'UGRD_850mb_max', 'UGRD_850mb_min',\n",
       "       'UGRD_900mb_avg', 'UGRD_900mb_max', 'UGRD_900mb_min',\n",
       "       'UGRD_925mb_avg', 'UGRD_925mb_max', 'UGRD_925mb_min',\n",
       "       'UGRD_950mb_avg', 'UGRD_950mb_max', 'UGRD_950mb_min',\n",
       "       'UGRD_975mb_avg', 'UGRD_975mb_max', 'UGRD_975mb_min',\n",
       "       'UGRD_PV_EQ_2eM06_Km_2_kg_s_surface_avg',\n",
       "       'UGRD_PV_EQ_2eM06_Km_2_kg_s_surface_max',\n",
       "       'UGRD_PV_EQ_2eM06_Km_2_kg_s_surface_min', 'UGRD_maxwind_avg',\n",
       "       'UGRD_maxwind_max', 'UGRD_maxwind_min', 'UGRD_tropopause_avg',\n",
       "       'UGRD_tropopause_max', 'UGRD_tropopause_min',\n",
       "       'VGRD_0D995sigmalevel_avg', 'VGRD_0D995sigmalevel_max',\n",
       "       'VGRD_0D995sigmalevel_min', 'VGRD_1000mb_avg', 'VGRD_1000mb_max',\n",
       "       'VGRD_1000mb_min', 'VGRD_100maboveground_avg',\n",
       "       'VGRD_100maboveground_max', 'VGRD_100maboveground_min',\n",
       "       'VGRD_100mb_avg', 'VGRD_100mb_max', 'VGRD_100mb_min',\n",
       "       'VGRD_10maboveground_avg', 'VGRD_10maboveground_max',\n",
       "       'VGRD_10maboveground_min', 'VGRD_10mb_avg', 'VGRD_10mb_max',\n",
       "       'VGRD_10mb_min', 'VGRD_150mb_avg', 'VGRD_150mb_max',\n",
       "       'VGRD_150mb_min', 'VGRD_1829mabovemeansealevel_avg',\n",
       "       'VGRD_1829mabovemeansealevel_max',\n",
       "       'VGRD_1829mabovemeansealevel_min', 'VGRD_200mb_avg',\n",
       "       'VGRD_200mb_max', 'VGRD_200mb_min', 'VGRD_20mb_avg',\n",
       "       'VGRD_20mb_max', 'VGRD_20mb_min', 'VGRD_250mb_avg',\n",
       "       'VGRD_250mb_max', 'VGRD_250mb_min',\n",
       "       'VGRD_2743mabovemeansealevel_avg',\n",
       "       'VGRD_2743mabovemeansealevel_max',\n",
       "       'VGRD_2743mabovemeansealevel_min', 'VGRD_300mb_avg',\n",
       "       'VGRD_300mb_max', 'VGRD_300mb_min', 'VGRD_30M0mbaboveground_avg',\n",
       "       'VGRD_30M0mbaboveground_max', 'VGRD_30M0mbaboveground_min',\n",
       "       'VGRD_30mb_avg', 'VGRD_30mb_max', 'VGRD_30mb_min',\n",
       "       'VGRD_350mb_avg', 'VGRD_350mb_max', 'VGRD_350mb_min',\n",
       "       'VGRD_3658mabovemeansealevel_avg',\n",
       "       'VGRD_3658mabovemeansealevel_max',\n",
       "       'VGRD_3658mabovemeansealevel_min', 'VGRD_400mb_avg',\n",
       "       'VGRD_400mb_max', 'VGRD_400mb_min', 'VGRD_450mb_avg',\n",
       "       'VGRD_450mb_max', 'VGRD_450mb_min', 'VGRD_500mb_avg',\n",
       "       'VGRD_500mb_max', 'VGRD_500mb_min', 'VGRD_50mb_avg',\n",
       "       'VGRD_50mb_max', 'VGRD_50mb_min', 'VGRD_550mb_avg',\n",
       "       'VGRD_550mb_max', 'VGRD_550mb_min', 'VGRD_600mb_avg',\n",
       "       'VGRD_600mb_max', 'VGRD_600mb_min', 'VGRD_650mb_avg',\n",
       "       'VGRD_650mb_max', 'VGRD_650mb_min', 'VGRD_700mb_avg',\n",
       "       'VGRD_700mb_max', 'VGRD_700mb_min', 'VGRD_70mb_avg',\n",
       "       'VGRD_70mb_max', 'VGRD_70mb_min', 'VGRD_750mb_avg',\n",
       "       'VGRD_750mb_max', 'VGRD_750mb_min', 'VGRD_800mb_avg',\n",
       "       'VGRD_800mb_max', 'VGRD_800mb_min', 'VGRD_80maboveground_avg',\n",
       "       'VGRD_80maboveground_max', 'VGRD_80maboveground_min',\n",
       "       'VGRD_850mb_avg', 'VGRD_850mb_max', 'VGRD_850mb_min',\n",
       "       'VGRD_900mb_avg', 'VGRD_900mb_max', 'VGRD_900mb_min',\n",
       "       'VGRD_925mb_avg', 'VGRD_925mb_max', 'VGRD_925mb_min',\n",
       "       'VGRD_950mb_avg', 'VGRD_950mb_max', 'VGRD_950mb_min',\n",
       "       'VGRD_975mb_avg', 'VGRD_975mb_max', 'VGRD_975mb_min',\n",
       "       'VGRD_PV_EQ_2eM06_Km_2_kg_s_surface_avg',\n",
       "       'VGRD_PV_EQ_2eM06_Km_2_kg_s_surface_max',\n",
       "       'VGRD_PV_EQ_2eM06_Km_2_kg_s_surface_min', 'VGRD_maxwind_avg',\n",
       "       'VGRD_maxwind_max', 'VGRD_maxwind_min', 'VGRD_tropopause_avg',\n",
       "       'VGRD_tropopause_max', 'VGRD_tropopause_min',\n",
       "       'VVEL_0D995sigmalevel_avg', 'VVEL_0D995sigmalevel_max',\n",
       "       'VVEL_0D995sigmalevel_min', 'VVEL_1000mb_avg', 'VVEL_1000mb_max',\n",
       "       'VVEL_1000mb_min', 'VVEL_100mb_avg', 'VVEL_100mb_max',\n",
       "       'VVEL_100mb_min', 'VVEL_150mb_avg', 'VVEL_150mb_max',\n",
       "       'VVEL_150mb_min', 'VVEL_200mb_avg', 'VVEL_200mb_max',\n",
       "       'VVEL_200mb_min', 'VVEL_250mb_avg', 'VVEL_250mb_max',\n",
       "       'VVEL_250mb_min', 'VVEL_300mb_avg', 'VVEL_300mb_max',\n",
       "       'VVEL_300mb_min', 'VVEL_350mb_avg', 'VVEL_350mb_max',\n",
       "       'VVEL_350mb_min', 'VVEL_400mb_avg', 'VVEL_400mb_max',\n",
       "       'VVEL_400mb_min', 'VVEL_450mb_avg', 'VVEL_450mb_max',\n",
       "       'VVEL_450mb_min', 'VVEL_500mb_avg', 'VVEL_500mb_max',\n",
       "       'VVEL_500mb_min', 'VVEL_550mb_avg', 'VVEL_550mb_max',\n",
       "       'VVEL_550mb_min', 'VVEL_600mb_avg', 'VVEL_600mb_max',\n",
       "       'VVEL_600mb_min', 'VVEL_650mb_avg', 'VVEL_650mb_max',\n",
       "       'VVEL_650mb_min', 'VVEL_700mb_avg', 'VVEL_700mb_max',\n",
       "       'VVEL_700mb_min', 'VVEL_750mb_avg', 'VVEL_750mb_max',\n",
       "       'VVEL_750mb_min', 'VVEL_800mb_avg', 'VVEL_800mb_max',\n",
       "       'VVEL_800mb_min', 'VVEL_850mb_avg', 'VVEL_850mb_max',\n",
       "       'VVEL_850mb_min', 'VVEL_900mb_avg', 'VVEL_900mb_max',\n",
       "       'VVEL_900mb_min', 'VVEL_925mb_avg', 'VVEL_925mb_max',\n",
       "       'VVEL_925mb_min', 'VVEL_950mb_avg', 'VVEL_950mb_max',\n",
       "       'VVEL_950mb_min', 'VVEL_975mb_avg', 'VVEL_975mb_max',\n",
       "       'VVEL_975mb_min', 'WEASD_surface_avg', 'WEASD_surface_max',\n",
       "       'WEASD_surface_min'], dtype=object)"
      ]
     },
     "execution_count": 25,
     "metadata": {},
     "output_type": "execute_result"
    }
   ],
   "source": [
    "feature_names"
   ]
  },
  {
   "cell_type": "code",
   "execution_count": null,
   "metadata": {},
   "outputs": [],
   "source": [
    "one_of_each_feature = "
   ]
  },
  {
   "cell_type": "code",
   "execution_count": 57,
   "metadata": {},
   "outputs": [
    {
     "data": {
      "text/html": [
       "<div><svg style=\"position: absolute; width: 0; height: 0; overflow: hidden\">\n",
       "<defs>\n",
       "<symbol id=\"icon-database\" viewBox=\"0 0 32 32\">\n",
       "<path d=\"M16 0c-8.837 0-16 2.239-16 5v4c0 2.761 7.163 5 16 5s16-2.239 16-5v-4c0-2.761-7.163-5-16-5z\"></path>\n",
       "<path d=\"M16 17c-8.837 0-16-2.239-16-5v6c0 2.761 7.163 5 16 5s16-2.239 16-5v-6c0 2.761-7.163 5-16 5z\"></path>\n",
       "<path d=\"M16 26c-8.837 0-16-2.239-16-5v6c0 2.761 7.163 5 16 5s16-2.239 16-5v-6c0 2.761-7.163 5-16 5z\"></path>\n",
       "</symbol>\n",
       "<symbol id=\"icon-file-text2\" viewBox=\"0 0 32 32\">\n",
       "<path d=\"M28.681 7.159c-0.694-0.947-1.662-2.053-2.724-3.116s-2.169-2.030-3.116-2.724c-1.612-1.182-2.393-1.319-2.841-1.319h-15.5c-1.378 0-2.5 1.121-2.5 2.5v27c0 1.378 1.122 2.5 2.5 2.5h23c1.378 0 2.5-1.122 2.5-2.5v-19.5c0-0.448-0.137-1.23-1.319-2.841zM24.543 5.457c0.959 0.959 1.712 1.825 2.268 2.543h-4.811v-4.811c0.718 0.556 1.584 1.309 2.543 2.268zM28 29.5c0 0.271-0.229 0.5-0.5 0.5h-23c-0.271 0-0.5-0.229-0.5-0.5v-27c0-0.271 0.229-0.5 0.5-0.5 0 0 15.499-0 15.5 0v7c0 0.552 0.448 1 1 1h7v19.5z\"></path>\n",
       "<path d=\"M23 26h-14c-0.552 0-1-0.448-1-1s0.448-1 1-1h14c0.552 0 1 0.448 1 1s-0.448 1-1 1z\"></path>\n",
       "<path d=\"M23 22h-14c-0.552 0-1-0.448-1-1s0.448-1 1-1h14c0.552 0 1 0.448 1 1s-0.448 1-1 1z\"></path>\n",
       "<path d=\"M23 18h-14c-0.552 0-1-0.448-1-1s0.448-1 1-1h14c0.552 0 1 0.448 1 1s-0.448 1-1 1z\"></path>\n",
       "</symbol>\n",
       "</defs>\n",
       "</svg>\n",
       "<style>/* CSS stylesheet for displaying xarray objects in jupyterlab.\n",
       " *\n",
       " */\n",
       "\n",
       ":root {\n",
       "  --xr-font-color0: var(--jp-content-font-color0, rgba(0, 0, 0, 1));\n",
       "  --xr-font-color2: var(--jp-content-font-color2, rgba(0, 0, 0, 0.54));\n",
       "  --xr-font-color3: var(--jp-content-font-color3, rgba(0, 0, 0, 0.38));\n",
       "  --xr-border-color: var(--jp-border-color2, #e0e0e0);\n",
       "  --xr-disabled-color: var(--jp-layout-color3, #bdbdbd);\n",
       "  --xr-background-color: var(--jp-layout-color0, white);\n",
       "  --xr-background-color-row-even: var(--jp-layout-color1, white);\n",
       "  --xr-background-color-row-odd: var(--jp-layout-color2, #eeeeee);\n",
       "}\n",
       "\n",
       "html[theme=dark],\n",
       "body.vscode-dark {\n",
       "  --xr-font-color0: rgba(255, 255, 255, 1);\n",
       "  --xr-font-color2: rgba(255, 255, 255, 0.54);\n",
       "  --xr-font-color3: rgba(255, 255, 255, 0.38);\n",
       "  --xr-border-color: #1F1F1F;\n",
       "  --xr-disabled-color: #515151;\n",
       "  --xr-background-color: #111111;\n",
       "  --xr-background-color-row-even: #111111;\n",
       "  --xr-background-color-row-odd: #313131;\n",
       "}\n",
       "\n",
       ".xr-wrap {\n",
       "  display: block;\n",
       "  min-width: 300px;\n",
       "  max-width: 700px;\n",
       "}\n",
       "\n",
       ".xr-text-repr-fallback {\n",
       "  /* fallback to plain text repr when CSS is not injected (untrusted notebook) */\n",
       "  display: none;\n",
       "}\n",
       "\n",
       ".xr-header {\n",
       "  padding-top: 6px;\n",
       "  padding-bottom: 6px;\n",
       "  margin-bottom: 4px;\n",
       "  border-bottom: solid 1px var(--xr-border-color);\n",
       "}\n",
       "\n",
       ".xr-header > div,\n",
       ".xr-header > ul {\n",
       "  display: inline;\n",
       "  margin-top: 0;\n",
       "  margin-bottom: 0;\n",
       "}\n",
       "\n",
       ".xr-obj-type,\n",
       ".xr-array-name {\n",
       "  margin-left: 2px;\n",
       "  margin-right: 10px;\n",
       "}\n",
       "\n",
       ".xr-obj-type {\n",
       "  color: var(--xr-font-color2);\n",
       "}\n",
       "\n",
       ".xr-sections {\n",
       "  padding-left: 0 !important;\n",
       "  display: grid;\n",
       "  grid-template-columns: 150px auto auto 1fr 20px 20px;\n",
       "}\n",
       "\n",
       ".xr-section-item {\n",
       "  display: contents;\n",
       "}\n",
       "\n",
       ".xr-section-item input {\n",
       "  display: none;\n",
       "}\n",
       "\n",
       ".xr-section-item input + label {\n",
       "  color: var(--xr-disabled-color);\n",
       "}\n",
       "\n",
       ".xr-section-item input:enabled + label {\n",
       "  cursor: pointer;\n",
       "  color: var(--xr-font-color2);\n",
       "}\n",
       "\n",
       ".xr-section-item input:enabled + label:hover {\n",
       "  color: var(--xr-font-color0);\n",
       "}\n",
       "\n",
       ".xr-section-summary {\n",
       "  grid-column: 1;\n",
       "  color: var(--xr-font-color2);\n",
       "  font-weight: 500;\n",
       "}\n",
       "\n",
       ".xr-section-summary > span {\n",
       "  display: inline-block;\n",
       "  padding-left: 0.5em;\n",
       "}\n",
       "\n",
       ".xr-section-summary-in:disabled + label {\n",
       "  color: var(--xr-font-color2);\n",
       "}\n",
       "\n",
       ".xr-section-summary-in + label:before {\n",
       "  display: inline-block;\n",
       "  content: '►';\n",
       "  font-size: 11px;\n",
       "  width: 15px;\n",
       "  text-align: center;\n",
       "}\n",
       "\n",
       ".xr-section-summary-in:disabled + label:before {\n",
       "  color: var(--xr-disabled-color);\n",
       "}\n",
       "\n",
       ".xr-section-summary-in:checked + label:before {\n",
       "  content: '▼';\n",
       "}\n",
       "\n",
       ".xr-section-summary-in:checked + label > span {\n",
       "  display: none;\n",
       "}\n",
       "\n",
       ".xr-section-summary,\n",
       ".xr-section-inline-details {\n",
       "  padding-top: 4px;\n",
       "  padding-bottom: 4px;\n",
       "}\n",
       "\n",
       ".xr-section-inline-details {\n",
       "  grid-column: 2 / -1;\n",
       "}\n",
       "\n",
       ".xr-section-details {\n",
       "  display: none;\n",
       "  grid-column: 1 / -1;\n",
       "  margin-bottom: 5px;\n",
       "}\n",
       "\n",
       ".xr-section-summary-in:checked ~ .xr-section-details {\n",
       "  display: contents;\n",
       "}\n",
       "\n",
       ".xr-array-wrap {\n",
       "  grid-column: 1 / -1;\n",
       "  display: grid;\n",
       "  grid-template-columns: 20px auto;\n",
       "}\n",
       "\n",
       ".xr-array-wrap > label {\n",
       "  grid-column: 1;\n",
       "  vertical-align: top;\n",
       "}\n",
       "\n",
       ".xr-preview {\n",
       "  color: var(--xr-font-color3);\n",
       "}\n",
       "\n",
       ".xr-array-preview,\n",
       ".xr-array-data {\n",
       "  padding: 0 5px !important;\n",
       "  grid-column: 2;\n",
       "}\n",
       "\n",
       ".xr-array-data,\n",
       ".xr-array-in:checked ~ .xr-array-preview {\n",
       "  display: none;\n",
       "}\n",
       "\n",
       ".xr-array-in:checked ~ .xr-array-data,\n",
       ".xr-array-preview {\n",
       "  display: inline-block;\n",
       "}\n",
       "\n",
       ".xr-dim-list {\n",
       "  display: inline-block !important;\n",
       "  list-style: none;\n",
       "  padding: 0 !important;\n",
       "  margin: 0;\n",
       "}\n",
       "\n",
       ".xr-dim-list li {\n",
       "  display: inline-block;\n",
       "  padding: 0;\n",
       "  margin: 0;\n",
       "}\n",
       "\n",
       ".xr-dim-list:before {\n",
       "  content: '(';\n",
       "}\n",
       "\n",
       ".xr-dim-list:after {\n",
       "  content: ')';\n",
       "}\n",
       "\n",
       ".xr-dim-list li:not(:last-child):after {\n",
       "  content: ',';\n",
       "  padding-right: 5px;\n",
       "}\n",
       "\n",
       ".xr-has-index {\n",
       "  font-weight: bold;\n",
       "}\n",
       "\n",
       ".xr-var-list,\n",
       ".xr-var-item {\n",
       "  display: contents;\n",
       "}\n",
       "\n",
       ".xr-var-item > div,\n",
       ".xr-var-item label,\n",
       ".xr-var-item > .xr-var-name span {\n",
       "  background-color: var(--xr-background-color-row-even);\n",
       "  margin-bottom: 0;\n",
       "}\n",
       "\n",
       ".xr-var-item > .xr-var-name:hover span {\n",
       "  padding-right: 5px;\n",
       "}\n",
       "\n",
       ".xr-var-list > li:nth-child(odd) > div,\n",
       ".xr-var-list > li:nth-child(odd) > label,\n",
       ".xr-var-list > li:nth-child(odd) > .xr-var-name span {\n",
       "  background-color: var(--xr-background-color-row-odd);\n",
       "}\n",
       "\n",
       ".xr-var-name {\n",
       "  grid-column: 1;\n",
       "}\n",
       "\n",
       ".xr-var-dims {\n",
       "  grid-column: 2;\n",
       "}\n",
       "\n",
       ".xr-var-dtype {\n",
       "  grid-column: 3;\n",
       "  text-align: right;\n",
       "  color: var(--xr-font-color2);\n",
       "}\n",
       "\n",
       ".xr-var-preview {\n",
       "  grid-column: 4;\n",
       "}\n",
       "\n",
       ".xr-var-name,\n",
       ".xr-var-dims,\n",
       ".xr-var-dtype,\n",
       ".xr-preview,\n",
       ".xr-attrs dt {\n",
       "  white-space: nowrap;\n",
       "  overflow: hidden;\n",
       "  text-overflow: ellipsis;\n",
       "  padding-right: 10px;\n",
       "}\n",
       "\n",
       ".xr-var-name:hover,\n",
       ".xr-var-dims:hover,\n",
       ".xr-var-dtype:hover,\n",
       ".xr-attrs dt:hover {\n",
       "  overflow: visible;\n",
       "  width: auto;\n",
       "  z-index: 1;\n",
       "}\n",
       "\n",
       ".xr-var-attrs,\n",
       ".xr-var-data {\n",
       "  display: none;\n",
       "  background-color: var(--xr-background-color) !important;\n",
       "  padding-bottom: 5px !important;\n",
       "}\n",
       "\n",
       ".xr-var-attrs-in:checked ~ .xr-var-attrs,\n",
       ".xr-var-data-in:checked ~ .xr-var-data {\n",
       "  display: block;\n",
       "}\n",
       "\n",
       ".xr-var-data > table {\n",
       "  float: right;\n",
       "}\n",
       "\n",
       ".xr-var-name span,\n",
       ".xr-var-data,\n",
       ".xr-attrs {\n",
       "  padding-left: 25px !important;\n",
       "}\n",
       "\n",
       ".xr-attrs,\n",
       ".xr-var-attrs,\n",
       ".xr-var-data {\n",
       "  grid-column: 1 / -1;\n",
       "}\n",
       "\n",
       "dl.xr-attrs {\n",
       "  padding: 0;\n",
       "  margin: 0;\n",
       "  display: grid;\n",
       "  grid-template-columns: 125px auto;\n",
       "}\n",
       "\n",
       ".xr-attrs dt,\n",
       ".xr-attrs dd {\n",
       "  padding: 0;\n",
       "  margin: 0;\n",
       "  float: left;\n",
       "  padding-right: 10px;\n",
       "  width: auto;\n",
       "}\n",
       "\n",
       ".xr-attrs dt {\n",
       "  font-weight: normal;\n",
       "  grid-column: 1;\n",
       "}\n",
       "\n",
       ".xr-attrs dt:hover span {\n",
       "  display: inline-block;\n",
       "  background: var(--xr-background-color);\n",
       "  padding-right: 10px;\n",
       "}\n",
       "\n",
       ".xr-attrs dd {\n",
       "  grid-column: 2;\n",
       "  white-space: pre-wrap;\n",
       "  word-break: break-all;\n",
       "}\n",
       "\n",
       ".xr-icon-database,\n",
       ".xr-icon-file-text2 {\n",
       "  display: inline-block;\n",
       "  vertical-align: middle;\n",
       "  width: 1em;\n",
       "  height: 1.5em !important;\n",
       "  stroke-width: 0;\n",
       "  stroke: currentColor;\n",
       "  fill: currentColor;\n",
       "}\n",
       "</style><pre class='xr-text-repr-fallback'>&lt;xarray.DataArray (sample: 12000, timestep: 180)&gt;\n",
       "array([[   nan,    nan,    nan, ...,  0.07 ,  0.04 ,  0.02 ],\n",
       "       [   nan,    nan,    nan, ...,  0.09 ,  0.02 ,  0.11 ],\n",
       "       [   nan,    nan,    nan, ...,  0.04 ,  0.02 ,  0.11 ],\n",
       "       ...,\n",
       "       [ 0.02 ,  0.   ,  0.   , ...,  0.015, -0.004,  0.007],\n",
       "       [ 0.   ,  0.   ,  0.   , ...,  0.022, -0.008, -0.002],\n",
       "       [ 0.01 ,  0.01 ,  0.   , ...,  0.   , -0.003,  0.002]],\n",
       "      dtype=float32)\n",
       "Coordinates:\n",
       "  * sample    (sample) int64 0 1 2 3 4 5 ... 11994 11995 11996 11997 11998 11999\n",
       "    feature   &lt;U16 &#x27;SNOD_surface_max&#x27;\n",
       "  * timestep  (timestep) int64 0 1 2 3 4 5 6 7 ... 173 174 175 176 177 178 179</pre><div class='xr-wrap' hidden><div class='xr-header'><div class='xr-obj-type'>xarray.DataArray</div><div class='xr-array-name'></div><ul class='xr-dim-list'><li><span class='xr-has-index'>sample</span>: 12000</li><li><span class='xr-has-index'>timestep</span>: 180</li></ul></div><ul class='xr-sections'><li class='xr-section-item'><div class='xr-array-wrap'><input id='section-87956752-0891-4996-916c-1c925e9b185a' class='xr-array-in' type='checkbox' checked><label for='section-87956752-0891-4996-916c-1c925e9b185a' title='Show/hide data repr'><svg class='icon xr-icon-database'><use xlink:href='#icon-database'></use></svg></label><div class='xr-array-preview xr-preview'><span>nan nan nan nan nan nan nan ... 0.002 0.004 0.007 0.0 -0.003 0.002</span></div><div class='xr-array-data'><pre>array([[   nan,    nan,    nan, ...,  0.07 ,  0.04 ,  0.02 ],\n",
       "       [   nan,    nan,    nan, ...,  0.09 ,  0.02 ,  0.11 ],\n",
       "       [   nan,    nan,    nan, ...,  0.04 ,  0.02 ,  0.11 ],\n",
       "       ...,\n",
       "       [ 0.02 ,  0.   ,  0.   , ...,  0.015, -0.004,  0.007],\n",
       "       [ 0.   ,  0.   ,  0.   , ...,  0.022, -0.008, -0.002],\n",
       "       [ 0.01 ,  0.01 ,  0.   , ...,  0.   , -0.003,  0.002]],\n",
       "      dtype=float32)</pre></div></div></li><li class='xr-section-item'><input id='section-3e876299-b5d0-44a1-aefb-1dff161f9f43' class='xr-section-summary-in' type='checkbox'  checked><label for='section-3e876299-b5d0-44a1-aefb-1dff161f9f43' class='xr-section-summary' >Coordinates: <span>(3)</span></label><div class='xr-section-inline-details'></div><div class='xr-section-details'><ul class='xr-var-list'><li class='xr-var-item'><div class='xr-var-name'><span class='xr-has-index'>sample</span></div><div class='xr-var-dims'>(sample)</div><div class='xr-var-dtype'>int64</div><div class='xr-var-preview xr-preview'>0 1 2 3 ... 11996 11997 11998 11999</div><input id='attrs-07544682-bcc7-4abc-b2d7-a38884a5ce35' class='xr-var-attrs-in' type='checkbox' disabled><label for='attrs-07544682-bcc7-4abc-b2d7-a38884a5ce35' title='Show/Hide attributes'><svg class='icon xr-icon-file-text2'><use xlink:href='#icon-file-text2'></use></svg></label><input id='data-79cb2fbc-8e37-4dc2-a244-7cba1830c3f7' class='xr-var-data-in' type='checkbox'><label for='data-79cb2fbc-8e37-4dc2-a244-7cba1830c3f7' title='Show/Hide data repr'><svg class='icon xr-icon-database'><use xlink:href='#icon-database'></use></svg></label><div class='xr-var-attrs'><dl class='xr-attrs'></dl></div><div class='xr-var-data'><pre>array([    0,     1,     2, ..., 11997, 11998, 11999])</pre></div></li><li class='xr-var-item'><div class='xr-var-name'><span>feature</span></div><div class='xr-var-dims'>()</div><div class='xr-var-dtype'>&lt;U16</div><div class='xr-var-preview xr-preview'>&#x27;SNOD_surface_max&#x27;</div><input id='attrs-9b8c33b5-f42d-4fc9-8418-50d423194499' class='xr-var-attrs-in' type='checkbox' disabled><label for='attrs-9b8c33b5-f42d-4fc9-8418-50d423194499' title='Show/Hide attributes'><svg class='icon xr-icon-file-text2'><use xlink:href='#icon-file-text2'></use></svg></label><input id='data-b04ebc7d-7527-4a2f-b416-6ab97f3ea022' class='xr-var-data-in' type='checkbox'><label for='data-b04ebc7d-7527-4a2f-b416-6ab97f3ea022' title='Show/Hide data repr'><svg class='icon xr-icon-database'><use xlink:href='#icon-database'></use></svg></label><div class='xr-var-attrs'><dl class='xr-attrs'></dl></div><div class='xr-var-data'><pre>array(&#x27;SNOD_surface_max&#x27;, dtype=&#x27;&lt;U16&#x27;)</pre></div></li><li class='xr-var-item'><div class='xr-var-name'><span class='xr-has-index'>timestep</span></div><div class='xr-var-dims'>(timestep)</div><div class='xr-var-dtype'>int64</div><div class='xr-var-preview xr-preview'>0 1 2 3 4 5 ... 175 176 177 178 179</div><input id='attrs-1c912365-4357-47d5-8762-76cf76b1b32b' class='xr-var-attrs-in' type='checkbox' disabled><label for='attrs-1c912365-4357-47d5-8762-76cf76b1b32b' title='Show/Hide attributes'><svg class='icon xr-icon-file-text2'><use xlink:href='#icon-file-text2'></use></svg></label><input id='data-363d36fa-115a-472d-89a6-d687d6c744a5' class='xr-var-data-in' type='checkbox'><label for='data-363d36fa-115a-472d-89a6-d687d6c744a5' title='Show/Hide data repr'><svg class='icon xr-icon-database'><use xlink:href='#icon-database'></use></svg></label><div class='xr-var-attrs'><dl class='xr-attrs'></dl></div><div class='xr-var-data'><pre>array([  0,   1,   2,   3,   4,   5,   6,   7,   8,   9,  10,  11,  12,  13,\n",
       "        14,  15,  16,  17,  18,  19,  20,  21,  22,  23,  24,  25,  26,  27,\n",
       "        28,  29,  30,  31,  32,  33,  34,  35,  36,  37,  38,  39,  40,  41,\n",
       "        42,  43,  44,  45,  46,  47,  48,  49,  50,  51,  52,  53,  54,  55,\n",
       "        56,  57,  58,  59,  60,  61,  62,  63,  64,  65,  66,  67,  68,  69,\n",
       "        70,  71,  72,  73,  74,  75,  76,  77,  78,  79,  80,  81,  82,  83,\n",
       "        84,  85,  86,  87,  88,  89,  90,  91,  92,  93,  94,  95,  96,  97,\n",
       "        98,  99, 100, 101, 102, 103, 104, 105, 106, 107, 108, 109, 110, 111,\n",
       "       112, 113, 114, 115, 116, 117, 118, 119, 120, 121, 122, 123, 124, 125,\n",
       "       126, 127, 128, 129, 130, 131, 132, 133, 134, 135, 136, 137, 138, 139,\n",
       "       140, 141, 142, 143, 144, 145, 146, 147, 148, 149, 150, 151, 152, 153,\n",
       "       154, 155, 156, 157, 158, 159, 160, 161, 162, 163, 164, 165, 166, 167,\n",
       "       168, 169, 170, 171, 172, 173, 174, 175, 176, 177, 178, 179])</pre></div></li></ul></div></li><li class='xr-section-item'><input id='section-b249d74b-105a-48b7-9042-e910c16e5dda' class='xr-section-summary-in' type='checkbox' disabled ><label for='section-b249d74b-105a-48b7-9042-e910c16e5dda' class='xr-section-summary'  title='Expand/collapse section'>Attributes: <span>(0)</span></label><div class='xr-section-inline-details'></div><div class='xr-section-details'><dl class='xr-attrs'></dl></div></li></ul></div></div>"
      ],
      "text/plain": [
       "<xarray.DataArray (sample: 12000, timestep: 180)>\n",
       "array([[   nan,    nan,    nan, ...,  0.07 ,  0.04 ,  0.02 ],\n",
       "       [   nan,    nan,    nan, ...,  0.09 ,  0.02 ,  0.11 ],\n",
       "       [   nan,    nan,    nan, ...,  0.04 ,  0.02 ,  0.11 ],\n",
       "       ...,\n",
       "       [ 0.02 ,  0.   ,  0.   , ...,  0.015, -0.004,  0.007],\n",
       "       [ 0.   ,  0.   ,  0.   , ...,  0.022, -0.008, -0.002],\n",
       "       [ 0.01 ,  0.01 ,  0.   , ...,  0.   , -0.003,  0.002]],\n",
       "      dtype=float32)\n",
       "Coordinates:\n",
       "  * sample    (sample) int64 0 1 2 3 4 5 ... 11994 11995 11996 11997 11998 11999\n",
       "    feature   <U16 'SNOD_surface_max'\n",
       "  * timestep  (timestep) int64 0 1 2 3 4 5 6 7 ... 173 174 175 176 177 178 179"
      ]
     },
     "execution_count": 57,
     "metadata": {},
     "output_type": "execute_result"
    }
   ],
   "source": [
    "da.sel(feature='SNOD_surface_max')"
   ]
  },
  {
   "cell_type": "code",
   "execution_count": 27,
   "metadata": {},
   "outputs": [
    {
     "data": {
      "text/plain": [
       "<matplotlib.collections.QuadMesh at 0x7f2e648cc1c0>"
      ]
     },
     "execution_count": 27,
     "metadata": {},
     "output_type": "execute_result"
    },
    {
     "data": {
      "image/png": "[encoded data removed]",
      "text/plain": [
       "<Figure size 432x288 with 2 Axes>"
      ]
     },
     "metadata": {
      "needs_background": "light"
     },
     "output_type": "display_data"
    }
   ],
   "source": [
    "da.sel(feature='SNOD_surface_max', sample=range(0,9100)).plot()"
   ]
  },
  {
   "cell_type": "code",
   "execution_count": 28,
   "metadata": {},
   "outputs": [
    {
     "data": {
      "text/plain": [
       "(12000,)"
      ]
     },
     "execution_count": 28,
     "metadata": {},
     "output_type": "execute_result"
    }
   ],
   "source": [
    "y.shape\n"
   ]
  },
  {
   "cell_type": "code",
   "execution_count": 29,
   "metadata": {},
   "outputs": [],
   "source": [
    "#X, y, splits = get_classification_data('ECG200', split_data=False)"
   ]
  },
  {
   "cell_type": "code",
   "execution_count": 30,
   "metadata": {},
   "outputs": [
    {
     "data": {
      "text/plain": [
       "(12000, 771, 180)"
      ]
     },
     "execution_count": 30,
     "metadata": {},
     "output_type": "execute_result"
    }
   ],
   "source": [
    "X.shape"
   ]
  },
  {
   "cell_type": "code",
   "execution_count": 64,
   "metadata": {},
   "outputs": [],
   "source": [
    "import numpy as np\n",
    "from sklearn.model_selection import train_test_split\n",
    "from sklearn.pipeline import Pipeline\n",
    "from sklearn.metrics import accuracy_score\n",
    "from sktime.classification.compose import ColumnEnsembleClassifier, ComposableTimeSeriesForestClassifier\n",
    "from sktime.classification.dictionary_based import BOSSEnsemble\n",
    "from sktime.classification.interval_based import TimeSeriesForestClassifier\n",
    "from sktime.classification.shapelet_based import MrSEQLClassifier\n",
    "from sktime.classification.kernel_based import ROCKETClassifier\n",
    "from sktime.datasets import load_basic_motions\n",
    "from sktime.transformations.panel.compose import ColumnConcatenator\n",
    "from sktime.datatypes._panel._convert import (\n",
    "    from_2d_array_to_nested,\n",
    "    from_3d_numpy_to_nested,\n",
    "    from_nested_to_2d_array,\n",
    "    is_nested_dataframe,\n",
    ")\n",
    "from sktime.utils.slope_and_trend import _slope\n",
    "from sktime.transformations.panel.summarize import RandomIntervalFeatureExtractor\n",
    "from sklearn.tree import DecisionTreeClassifier"
   ]
  },
  {
   "cell_type": "code",
   "execution_count": 32,
   "metadata": {},
   "outputs": [],
   "source": [
    "feature = ['WEASD_surface_max', 'SNOD_surface_max', 'HGT_surface_min', 'VVEL_150mb_avg', 'UGRD_30M0mbaboveground_max', 'VGRD_30M0mbaboveground_max']"
   ]
  },
  {
   "cell_type": "code",
   "execution_count": 33,
   "metadata": {},
   "outputs": [
    {
     "data": {
      "text/plain": [
       "array(['WEASD_surface_max', 'SNOD_surface_max', 'HGT_surface_min',\n",
       "       'VVEL_150mb_avg', 'UGRD_30M0mbaboveground_max',\n",
       "       'VGRD_30M0mbaboveground_max'], dtype=object)"
      ]
     },
     "execution_count": 33,
     "metadata": {},
     "output_type": "execute_result"
    }
   ],
   "source": [
    "da.sel(feature=feature).fillna(0).feature.values"
   ]
  },
  {
   "cell_type": "code",
   "execution_count": 33,
   "metadata": {},
   "outputs": [],
   "source": [
    "sub_da = da.sel(feature=feature).fillna(0)\n",
    "X_nested = from_3d_numpy_to_nested(sub_da, column_names=sub_da.feature.values)"
   ]
  },
  {
   "cell_type": "code",
   "execution_count": 36,
   "metadata": {},
   "outputs": [],
   "source": [
    "X_train, X_test, y_train, y_test = train_test_split(X_nested, y, test_size=2000, shuffle=False)"
   ]
  },
  {
   "cell_type": "code",
   "execution_count": 48,
   "metadata": {},
   "outputs": [
    {
     "name": "stdout",
     "output_type": "stream",
     "text": [
      "CPU times: user 2.36 s, sys: 538 ms, total: 2.9 s\n",
      "Wall time: 51.9 s\n"
     ]
    },
    {
     "data": {
      "text/plain": [
       "0.363"
      ]
     },
     "execution_count": 48,
     "metadata": {},
     "output_type": "execute_result"
    }
   ],
   "source": [
    "\n",
    "%%time\n",
    "\n",
    "\n",
    "#classifier = TimeSeriesForestClassifier(n_jobs=20)\n",
    "#classifier.fit(X_train, y_train)\n",
    "#y_pred = classifier.predict(X_test)\n",
    "#accuracy_score(y_test, y_pred)\n",
    "steps = [\n",
    "    (\"concatenate\", ColumnConcatenator()),\n",
    "    (\"classify\", TimeSeriesForestClassifier(n_estimators=200, n_jobs=20, min_interval=2)),\n",
    "]\n",
    "clf = Pipeline(steps)\n",
    "clf.fit(X_train, y_train)\n",
    "clf.score(X_test, y_test)"
   ]
  },
  {
   "cell_type": "code",
   "execution_count": 66,
   "metadata": {},
   "outputs": [
    {
     "ename": "TypeError",
     "evalue": "No matching definition for argument type(s) array(float32, 3d, C), Tuple(array(float64, 1d, C), array(int32, 1d, C), array(float64, 1d, C), array(int32, 1d, C), array(int32, 1d, C), array(int32, 1d, C), array(int32, 1d, C))",
     "output_type": "error",
     "traceback": [
      "\u001b[0;31m---------------------------------------------------------------------------\u001b[0m",
      "\u001b[0;31mTypeError\u001b[0m                                 Traceback (most recent call last)",
      "\u001b[0;32m/tmp/ipykernel_6707/233258087.py\u001b[0m in \u001b[0;36m<module>\u001b[0;34m\u001b[0m\n\u001b[1;32m      1\u001b[0m \u001b[0mrclf\u001b[0m \u001b[0;34m=\u001b[0m \u001b[0mROCKETClassifier\u001b[0m\u001b[0;34m(\u001b[0m\u001b[0mn_jobs\u001b[0m\u001b[0;34m=\u001b[0m\u001b[0;36m20\u001b[0m\u001b[0;34m)\u001b[0m\u001b[0;34m\u001b[0m\u001b[0;34m\u001b[0m\u001b[0m\n\u001b[0;32m----> 2\u001b[0;31m \u001b[0mrclf\u001b[0m\u001b[0;34m.\u001b[0m\u001b[0mfit\u001b[0m\u001b[0;34m(\u001b[0m\u001b[0mX_train\u001b[0m\u001b[0;34m,\u001b[0m \u001b[0my_train\u001b[0m\u001b[0;34m)\u001b[0m\u001b[0;34m\u001b[0m\u001b[0;34m\u001b[0m\u001b[0m\n\u001b[0m",
      "\u001b[0;32m~/miniconda3/envs/sktime/lib/python3.8/site-packages/sktime/classification/base.py\u001b[0m in \u001b[0;36mfit\u001b[0;34m(self, X, y)\u001b[0m\n\u001b[1;32m    108\u001b[0m         \u001b[0mX\u001b[0m\u001b[0;34m,\u001b[0m \u001b[0my\u001b[0m \u001b[0;34m=\u001b[0m \u001b[0mcheck_X_y\u001b[0m\u001b[0;34m(\u001b[0m\u001b[0mX\u001b[0m\u001b[0;34m,\u001b[0m \u001b[0my\u001b[0m\u001b[0;34m,\u001b[0m \u001b[0mcoerce_to_numpy\u001b[0m\u001b[0;34m=\u001b[0m\u001b[0mcoerce_to_numpy\u001b[0m\u001b[0;34m)\u001b[0m\u001b[0;34m\u001b[0m\u001b[0;34m\u001b[0m\u001b[0m\n\u001b[1;32m    109\u001b[0m \u001b[0;34m\u001b[0m\u001b[0m\n\u001b[0;32m--> 110\u001b[0;31m         \u001b[0mself\u001b[0m\u001b[0;34m.\u001b[0m\u001b[0m_fit\u001b[0m\u001b[0;34m(\u001b[0m\u001b[0mX\u001b[0m\u001b[0;34m,\u001b[0m \u001b[0my\u001b[0m\u001b[0;34m)\u001b[0m\u001b[0;34m\u001b[0m\u001b[0;34m\u001b[0m\u001b[0m\n\u001b[0m\u001b[1;32m    111\u001b[0m \u001b[0;34m\u001b[0m\u001b[0m\n\u001b[1;32m    112\u001b[0m         \u001b[0;31m# this should happen last\u001b[0m\u001b[0;34m\u001b[0m\u001b[0;34m\u001b[0m\u001b[0;34m\u001b[0m\u001b[0m\n",
      "\u001b[0;32m~/miniconda3/envs/sktime/lib/python3.8/site-packages/sktime/classification/kernel_based/_rocket_classifier.py\u001b[0m in \u001b[0;36m_fit\u001b[0;34m(self, X, y)\u001b[0m\n\u001b[1;32m    100\u001b[0m             \u001b[0mRidgeClassifierCV\u001b[0m\u001b[0;34m(\u001b[0m\u001b[0malphas\u001b[0m\u001b[0;34m=\u001b[0m\u001b[0mnp\u001b[0m\u001b[0;34m.\u001b[0m\u001b[0mlogspace\u001b[0m\u001b[0;34m(\u001b[0m\u001b[0;34m-\u001b[0m\u001b[0;36m3\u001b[0m\u001b[0;34m,\u001b[0m \u001b[0;36m3\u001b[0m\u001b[0;34m,\u001b[0m \u001b[0;36m10\u001b[0m\u001b[0;34m)\u001b[0m\u001b[0;34m,\u001b[0m \u001b[0mnormalize\u001b[0m\u001b[0;34m=\u001b[0m\u001b[0;32mTrue\u001b[0m\u001b[0;34m)\u001b[0m\u001b[0;34m,\u001b[0m\u001b[0;34m\u001b[0m\u001b[0;34m\u001b[0m\u001b[0m\n\u001b[1;32m    101\u001b[0m         )\n\u001b[0;32m--> 102\u001b[0;31m         \u001b[0mrocket_pipeline\u001b[0m\u001b[0;34m.\u001b[0m\u001b[0mfit\u001b[0m\u001b[0;34m(\u001b[0m\u001b[0mX\u001b[0m\u001b[0;34m,\u001b[0m \u001b[0my\u001b[0m\u001b[0;34m)\u001b[0m\u001b[0;34m\u001b[0m\u001b[0;34m\u001b[0m\u001b[0m\n\u001b[0m\u001b[1;32m    103\u001b[0m \u001b[0;34m\u001b[0m\u001b[0m\n\u001b[1;32m    104\u001b[0m         \u001b[0;32mreturn\u001b[0m \u001b[0mself\u001b[0m\u001b[0;34m\u001b[0m\u001b[0;34m\u001b[0m\u001b[0m\n",
      "\u001b[0;32m~/miniconda3/envs/sktime/lib/python3.8/site-packages/sklearn/pipeline.py\u001b[0m in \u001b[0;36mfit\u001b[0;34m(self, X, y, **fit_params)\u001b[0m\n\u001b[1;32m    388\u001b[0m         \"\"\"\n\u001b[1;32m    389\u001b[0m         \u001b[0mfit_params_steps\u001b[0m \u001b[0;34m=\u001b[0m \u001b[0mself\u001b[0m\u001b[0;34m.\u001b[0m\u001b[0m_check_fit_params\u001b[0m\u001b[0;34m(\u001b[0m\u001b[0;34m**\u001b[0m\u001b[0mfit_params\u001b[0m\u001b[0;34m)\u001b[0m\u001b[0;34m\u001b[0m\u001b[0;34m\u001b[0m\u001b[0m\n\u001b[0;32m--> 390\u001b[0;31m         \u001b[0mXt\u001b[0m \u001b[0;34m=\u001b[0m \u001b[0mself\u001b[0m\u001b[0;34m.\u001b[0m\u001b[0m_fit\u001b[0m\u001b[0;34m(\u001b[0m\u001b[0mX\u001b[0m\u001b[0;34m,\u001b[0m \u001b[0my\u001b[0m\u001b[0;34m,\u001b[0m \u001b[0;34m**\u001b[0m\u001b[0mfit_params_steps\u001b[0m\u001b[0;34m)\u001b[0m\u001b[0;34m\u001b[0m\u001b[0;34m\u001b[0m\u001b[0m\n\u001b[0m\u001b[1;32m    391\u001b[0m         \u001b[0;32mwith\u001b[0m \u001b[0m_print_elapsed_time\u001b[0m\u001b[0;34m(\u001b[0m\u001b[0;34m\"Pipeline\"\u001b[0m\u001b[0;34m,\u001b[0m \u001b[0mself\u001b[0m\u001b[0;34m.\u001b[0m\u001b[0m_log_message\u001b[0m\u001b[0;34m(\u001b[0m\u001b[0mlen\u001b[0m\u001b[0;34m(\u001b[0m\u001b[0mself\u001b[0m\u001b[0;34m.\u001b[0m\u001b[0msteps\u001b[0m\u001b[0;34m)\u001b[0m \u001b[0;34m-\u001b[0m \u001b[0;36m1\u001b[0m\u001b[0;34m)\u001b[0m\u001b[0;34m)\u001b[0m\u001b[0;34m:\u001b[0m\u001b[0;34m\u001b[0m\u001b[0;34m\u001b[0m\u001b[0m\n\u001b[1;32m    392\u001b[0m             \u001b[0;32mif\u001b[0m \u001b[0mself\u001b[0m\u001b[0;34m.\u001b[0m\u001b[0m_final_estimator\u001b[0m \u001b[0;34m!=\u001b[0m \u001b[0;34m\"passthrough\"\u001b[0m\u001b[0;34m:\u001b[0m\u001b[0;34m\u001b[0m\u001b[0;34m\u001b[0m\u001b[0m\n",
      "\u001b[0;32m~/miniconda3/envs/sktime/lib/python3.8/site-packages/sklearn/pipeline.py\u001b[0m in \u001b[0;36m_fit\u001b[0;34m(self, X, y, **fit_params_steps)\u001b[0m\n\u001b[1;32m    346\u001b[0m                 \u001b[0mcloned_transformer\u001b[0m \u001b[0;34m=\u001b[0m \u001b[0mclone\u001b[0m\u001b[0;34m(\u001b[0m\u001b[0mtransformer\u001b[0m\u001b[0;34m)\u001b[0m\u001b[0;34m\u001b[0m\u001b[0;34m\u001b[0m\u001b[0m\n\u001b[1;32m    347\u001b[0m             \u001b[0;31m# Fit or load from cache the current transformer\u001b[0m\u001b[0;34m\u001b[0m\u001b[0;34m\u001b[0m\u001b[0;34m\u001b[0m\u001b[0m\n\u001b[0;32m--> 348\u001b[0;31m             X, fitted_transformer = fit_transform_one_cached(\n\u001b[0m\u001b[1;32m    349\u001b[0m                 \u001b[0mcloned_transformer\u001b[0m\u001b[0;34m,\u001b[0m\u001b[0;34m\u001b[0m\u001b[0;34m\u001b[0m\u001b[0m\n\u001b[1;32m    350\u001b[0m                 \u001b[0mX\u001b[0m\u001b[0;34m,\u001b[0m\u001b[0;34m\u001b[0m\u001b[0;34m\u001b[0m\u001b[0m\n",
      "\u001b[0;32m~/miniconda3/envs/sktime/lib/python3.8/site-packages/joblib/memory.py\u001b[0m in \u001b[0;36m__call__\u001b[0;34m(self, *args, **kwargs)\u001b[0m\n\u001b[1;32m    350\u001b[0m \u001b[0;34m\u001b[0m\u001b[0m\n\u001b[1;32m    351\u001b[0m     \u001b[0;32mdef\u001b[0m \u001b[0m__call__\u001b[0m\u001b[0;34m(\u001b[0m\u001b[0mself\u001b[0m\u001b[0;34m,\u001b[0m \u001b[0;34m*\u001b[0m\u001b[0margs\u001b[0m\u001b[0;34m,\u001b[0m \u001b[0;34m**\u001b[0m\u001b[0mkwargs\u001b[0m\u001b[0;34m)\u001b[0m\u001b[0;34m:\u001b[0m\u001b[0;34m\u001b[0m\u001b[0;34m\u001b[0m\u001b[0m\n\u001b[0;32m--> 352\u001b[0;31m         \u001b[0;32mreturn\u001b[0m \u001b[0mself\u001b[0m\u001b[0;34m.\u001b[0m\u001b[0mfunc\u001b[0m\u001b[0;34m(\u001b[0m\u001b[0;34m*\u001b[0m\u001b[0margs\u001b[0m\u001b[0;34m,\u001b[0m \u001b[0;34m**\u001b[0m\u001b[0mkwargs\u001b[0m\u001b[0;34m)\u001b[0m\u001b[0;34m\u001b[0m\u001b[0;34m\u001b[0m\u001b[0m\n\u001b[0m\u001b[1;32m    353\u001b[0m \u001b[0;34m\u001b[0m\u001b[0m\n\u001b[1;32m    354\u001b[0m     \u001b[0;32mdef\u001b[0m \u001b[0mcall_and_shelve\u001b[0m\u001b[0;34m(\u001b[0m\u001b[0mself\u001b[0m\u001b[0;34m,\u001b[0m \u001b[0;34m*\u001b[0m\u001b[0margs\u001b[0m\u001b[0;34m,\u001b[0m \u001b[0;34m**\u001b[0m\u001b[0mkwargs\u001b[0m\u001b[0;34m)\u001b[0m\u001b[0;34m:\u001b[0m\u001b[0;34m\u001b[0m\u001b[0;34m\u001b[0m\u001b[0m\n",
      "\u001b[0;32m~/miniconda3/envs/sktime/lib/python3.8/site-packages/sklearn/pipeline.py\u001b[0m in \u001b[0;36m_fit_transform_one\u001b[0;34m(transformer, X, y, weight, message_clsname, message, **fit_params)\u001b[0m\n\u001b[1;32m    889\u001b[0m     \u001b[0;32mwith\u001b[0m \u001b[0m_print_elapsed_time\u001b[0m\u001b[0;34m(\u001b[0m\u001b[0mmessage_clsname\u001b[0m\u001b[0;34m,\u001b[0m \u001b[0mmessage\u001b[0m\u001b[0;34m)\u001b[0m\u001b[0;34m:\u001b[0m\u001b[0;34m\u001b[0m\u001b[0;34m\u001b[0m\u001b[0m\n\u001b[1;32m    890\u001b[0m         \u001b[0;32mif\u001b[0m \u001b[0mhasattr\u001b[0m\u001b[0;34m(\u001b[0m\u001b[0mtransformer\u001b[0m\u001b[0;34m,\u001b[0m \u001b[0;34m\"fit_transform\"\u001b[0m\u001b[0;34m)\u001b[0m\u001b[0;34m:\u001b[0m\u001b[0;34m\u001b[0m\u001b[0;34m\u001b[0m\u001b[0m\n\u001b[0;32m--> 891\u001b[0;31m             \u001b[0mres\u001b[0m \u001b[0;34m=\u001b[0m \u001b[0mtransformer\u001b[0m\u001b[0;34m.\u001b[0m\u001b[0mfit_transform\u001b[0m\u001b[0;34m(\u001b[0m\u001b[0mX\u001b[0m\u001b[0;34m,\u001b[0m \u001b[0my\u001b[0m\u001b[0;34m,\u001b[0m \u001b[0;34m**\u001b[0m\u001b[0mfit_params\u001b[0m\u001b[0;34m)\u001b[0m\u001b[0;34m\u001b[0m\u001b[0;34m\u001b[0m\u001b[0m\n\u001b[0m\u001b[1;32m    892\u001b[0m         \u001b[0;32melse\u001b[0m\u001b[0;34m:\u001b[0m\u001b[0;34m\u001b[0m\u001b[0;34m\u001b[0m\u001b[0m\n\u001b[1;32m    893\u001b[0m             \u001b[0mres\u001b[0m \u001b[0;34m=\u001b[0m \u001b[0mtransformer\u001b[0m\u001b[0;34m.\u001b[0m\u001b[0mfit\u001b[0m\u001b[0;34m(\u001b[0m\u001b[0mX\u001b[0m\u001b[0;34m,\u001b[0m \u001b[0my\u001b[0m\u001b[0;34m,\u001b[0m \u001b[0;34m**\u001b[0m\u001b[0mfit_params\u001b[0m\u001b[0;34m)\u001b[0m\u001b[0;34m.\u001b[0m\u001b[0mtransform\u001b[0m\u001b[0;34m(\u001b[0m\u001b[0mX\u001b[0m\u001b[0;34m)\u001b[0m\u001b[0;34m\u001b[0m\u001b[0;34m\u001b[0m\u001b[0m\n",
      "\u001b[0;32m~/miniconda3/envs/sktime/lib/python3.8/site-packages/sktime/transformations/base.py\u001b[0m in \u001b[0;36mfit_transform\u001b[0;34m(self, Z, X)\u001b[0m\n\u001b[1;32m     89\u001b[0m         \u001b[0;32melse\u001b[0m\u001b[0;34m:\u001b[0m\u001b[0;34m\u001b[0m\u001b[0;34m\u001b[0m\u001b[0m\n\u001b[1;32m     90\u001b[0m             \u001b[0;31m# Fit method of arity 2 (supervised transformation)\u001b[0m\u001b[0;34m\u001b[0m\u001b[0;34m\u001b[0m\u001b[0;34m\u001b[0m\u001b[0m\n\u001b[0;32m---> 91\u001b[0;31m             \u001b[0;32mreturn\u001b[0m \u001b[0mself\u001b[0m\u001b[0;34m.\u001b[0m\u001b[0mfit\u001b[0m\u001b[0;34m(\u001b[0m\u001b[0mZ\u001b[0m\u001b[0;34m,\u001b[0m \u001b[0mX\u001b[0m\u001b[0;34m)\u001b[0m\u001b[0;34m.\u001b[0m\u001b[0mtransform\u001b[0m\u001b[0;34m(\u001b[0m\u001b[0mZ\u001b[0m\u001b[0;34m)\u001b[0m\u001b[0;34m\u001b[0m\u001b[0;34m\u001b[0m\u001b[0m\n\u001b[0m\u001b[1;32m     92\u001b[0m \u001b[0;34m\u001b[0m\u001b[0m\n\u001b[1;32m     93\u001b[0m     \u001b[0;31m# def inverse_transform(self, Z, X=None):\u001b[0m\u001b[0;34m\u001b[0m\u001b[0;34m\u001b[0m\u001b[0;34m\u001b[0m\u001b[0m\n",
      "\u001b[0;32m~/miniconda3/envs/sktime/lib/python3.8/site-packages/sktime/transformations/panel/rocket/_rocket.py\u001b[0m in \u001b[0;36mtransform\u001b[0;34m(self, X, y)\u001b[0m\n\u001b[1;32m     93\u001b[0m             \u001b[0mn_jobs\u001b[0m \u001b[0;34m=\u001b[0m \u001b[0mself\u001b[0m\u001b[0;34m.\u001b[0m\u001b[0mn_jobs\u001b[0m\u001b[0;34m\u001b[0m\u001b[0;34m\u001b[0m\u001b[0m\n\u001b[1;32m     94\u001b[0m         \u001b[0mset_num_threads\u001b[0m\u001b[0;34m(\u001b[0m\u001b[0mn_jobs\u001b[0m\u001b[0;34m)\u001b[0m\u001b[0;34m\u001b[0m\u001b[0;34m\u001b[0m\u001b[0m\n\u001b[0;32m---> 95\u001b[0;31m         \u001b[0mt\u001b[0m \u001b[0;34m=\u001b[0m \u001b[0mpd\u001b[0m\u001b[0;34m.\u001b[0m\u001b[0mDataFrame\u001b[0m\u001b[0;34m(\u001b[0m\u001b[0m_apply_kernels\u001b[0m\u001b[0;34m(\u001b[0m\u001b[0m_X\u001b[0m\u001b[0;34m,\u001b[0m \u001b[0mself\u001b[0m\u001b[0;34m.\u001b[0m\u001b[0mkernels\u001b[0m\u001b[0;34m)\u001b[0m\u001b[0;34m)\u001b[0m\u001b[0;34m\u001b[0m\u001b[0;34m\u001b[0m\u001b[0m\n\u001b[0m\u001b[1;32m     96\u001b[0m         \u001b[0mset_num_threads\u001b[0m\u001b[0;34m(\u001b[0m\u001b[0mprev_threads\u001b[0m\u001b[0;34m)\u001b[0m\u001b[0;34m\u001b[0m\u001b[0;34m\u001b[0m\u001b[0m\n\u001b[1;32m     97\u001b[0m         \u001b[0;32mreturn\u001b[0m \u001b[0mt\u001b[0m\u001b[0;34m\u001b[0m\u001b[0;34m\u001b[0m\u001b[0m\n",
      "\u001b[0;32m~/miniconda3/envs/sktime/lib/python3.8/site-packages/numba/core/dispatcher.py\u001b[0m in \u001b[0;36m_explain_matching_error\u001b[0;34m(self, *args, **kws)\u001b[0m\n\u001b[1;32m    715\u001b[0m         msg = (\"No matching definition for argument type(s) %s\"\n\u001b[1;32m    716\u001b[0m                % ', '.join(map(str, args)))\n\u001b[0;32m--> 717\u001b[0;31m         \u001b[0;32mraise\u001b[0m \u001b[0mTypeError\u001b[0m\u001b[0;34m(\u001b[0m\u001b[0mmsg\u001b[0m\u001b[0;34m)\u001b[0m\u001b[0;34m\u001b[0m\u001b[0;34m\u001b[0m\u001b[0m\n\u001b[0m\u001b[1;32m    718\u001b[0m \u001b[0;34m\u001b[0m\u001b[0m\n\u001b[1;32m    719\u001b[0m     \u001b[0;32mdef\u001b[0m \u001b[0m_search_new_conversions\u001b[0m\u001b[0;34m(\u001b[0m\u001b[0mself\u001b[0m\u001b[0;34m,\u001b[0m \u001b[0;34m*\u001b[0m\u001b[0margs\u001b[0m\u001b[0;34m,\u001b[0m \u001b[0;34m**\u001b[0m\u001b[0mkws\u001b[0m\u001b[0;34m)\u001b[0m\u001b[0;34m:\u001b[0m\u001b[0;34m\u001b[0m\u001b[0;34m\u001b[0m\u001b[0m\n",
      "\u001b[0;31mTypeError\u001b[0m: No matching definition for argument type(s) array(float32, 3d, C), Tuple(array(float64, 1d, C), array(int32, 1d, C), array(float64, 1d, C), array(int32, 1d, C), array(int32, 1d, C), array(int32, 1d, C), array(int32, 1d, C))"
     ]
    }
   ],
   "source": [
    "rclf = ROCKETClassifier(n_jobs=20)\n",
    "rclf.fit(X_train, y_train)"
   ]
  },
  {
   "cell_type": "code",
   "execution_count": 46,
   "metadata": {},
   "outputs": [],
   "source": [
    "??TimeSeriesForestClassifier"
   ]
  },
  {
   "cell_type": "code",
   "execution_count": 60,
   "metadata": {},
   "outputs": [
    {
     "data": {
      "text/plain": [
       "0.3755"
      ]
     },
     "execution_count": 60,
     "metadata": {},
     "output_type": "execute_result"
    }
   ],
   "source": [
    "#estimators: 100==.373\n",
    "#10==.3585\n",
    "clf = ColumnEnsembleClassifier(\n",
    "    estimators=[\n",
    "        (\"TSF0\", TimeSeriesForestClassifier(n_estimators=200, n_jobs=10), [0]),\n",
    "        (\"TSF1\", TimeSeriesForestClassifier(n_estimators=200, n_jobs=10), [1]),\n",
    "        (\"TSF2\", TimeSeriesForestClassifier(n_estimators=200, n_jobs=10), [2]),\n",
    "    ]\n",
    ")\n",
    "clf.fit(X_train, y_train)\n",
    "clf.score(X_test, y_test)"
   ]
  },
  {
   "cell_type": "code",
   "execution_count": 37,
   "metadata": {},
   "outputs": [],
   "source": [
    "??MrSEQLClassifier"
   ]
  },
  {
   "cell_type": "code",
   "execution_count": 45,
   "metadata": {},
   "outputs": [
    {
     "name": "stderr",
     "output_type": "stream",
     "text": [
      "/home/scottcha/miniconda3/envs/sktime/lib/python3.8/site-packages/sklearn/utils/optimize.py:210: ConvergenceWarning: newton-cg failed to converge. Increase the number of iterations.\n",
      "  warnings.warn(\n"
     ]
    },
    {
     "name": "stdout",
     "output_type": "stream",
     "text": [
      "CPU times: user 5h 37min 50s, sys: 14min 24s, total: 5h 52min 14s\n",
      "Wall time: 1h 38min 18s\n"
     ]
    },
    {
     "data": {
      "text/plain": [
       "0.3205"
      ]
     },
     "execution_count": 45,
     "metadata": {},
     "output_type": "execute_result"
    }
   ],
   "source": [
    "%%time\n",
    "\n",
    "clf = MrSEQLClassifier()\n",
    "clf.fit(X_train, y_train)\n",
    "clf.score(X_test, y_test)"
   ]
  },
  {
   "cell_type": "code",
   "execution_count": 164,
   "metadata": {},
   "outputs": [],
   "source": [
    "import matplotlib.pyplot as plt"
   ]
  },
  {
   "cell_type": "code",
   "execution_count": 171,
   "metadata": {},
   "outputs": [
    {
     "data": {
      "text/plain": [
       "<AxesSubplot:>"
      ]
     },
     "execution_count": 171,
     "metadata": {},
     "output_type": "execute_result"
    },
    {
     "data": {
      "image/png": "[encoded data removed]",
      "text/plain": [
       "<Figure size 1152x288 with 1 Axes>"
      ]
     },
     "metadata": {
      "needs_background": "light"
     },
     "output_type": "display_data"
    }
   ],
   "source": [
    "fix, ax = plt.subplots(1,figsize=plt.figaspect(0.25))\n",
    "fi.plot(ax=ax)"
   ]
  },
  {
   "cell_type": "code",
   "execution_count": 161,
   "metadata": {},
   "outputs": [
    {
     "data": {
      "text/plain": [
       "0         0.000000\n",
       "1         0.000000\n",
       "2         0.000000\n",
       "3         0.000000\n",
       "4         0.000000\n",
       "          ...     \n",
       "535    2822.139893\n",
       "536    2822.139893\n",
       "537    2822.139893\n",
       "538    2822.139893\n",
       "539    2822.139893\n",
       "Length: 540, dtype: float32"
      ]
     },
     "execution_count": 161,
     "metadata": {},
     "output_type": "execute_result"
    }
   ],
   "source": [
    "ColumnConcatenator().fit(X_test).transform(X_test)[0][0]"
   ]
  },
  {
   "cell_type": "code",
   "execution_count": 65,
   "metadata": {},
   "outputs": [],
   "source": [
    "y_test_pred = clf.predict(X_test)"
   ]
  },
  {
   "cell_type": "code",
   "execution_count": 68,
   "metadata": {},
   "outputs": [
    {
     "data": {
      "text/plain": [
       "array([[0.54932302, 0.33462282, 0.08897485, 0.0270793 ],\n",
       "       [0.41860465, 0.30620155, 0.21317829, 0.0620155 ],\n",
       "       [0.17021277, 0.25725338, 0.49323017, 0.07930368],\n",
       "       [0.08444444, 0.45333333, 0.35333333, 0.10888889]])"
      ]
     },
     "execution_count": 68,
     "metadata": {},
     "output_type": "execute_result"
    }
   ],
   "source": [
    "from sklearn.metrics import confusion_matrix\n",
    "confusion_matrix(y_test, y_test_pred, normalize='true')"
   ]
  },
  {
   "cell_type": "code",
   "execution_count": 246,
   "metadata": {},
   "outputs": [
    {
     "name": "stderr",
     "output_type": "stream",
     "text": [
      "/home/scottcha/miniconda3/envs/tsai2.22/lib/python3.8/site-packages/mpl_toolkits/axes_grid1/__init__.py:2: MatplotlibDeprecationWarning: \n",
      "The deprecated function was deprecated in Matplotlib 3.4 and will be removed two minor releases later.\n",
      "  from .axes_divider import Divider, SubplotDivider, LocatableAxes, \\\n"
     ]
    }
   ],
   "source": [
    "from captum.attr import IntegratedGradients\n",
    "from captum.attr import LayerConductance\n",
    "from captum.attr import NeuronConductance"
   ]
  },
  {
   "cell_type": "code",
   "execution_count": 331,
   "metadata": {},
   "outputs": [],
   "source": [
    "net = learn.model.cpu()"
   ]
  },
  {
   "cell_type": "code",
   "execution_count": 332,
   "metadata": {},
   "outputs": [],
   "source": [
    "b = dls.one_batch()"
   ]
  },
  {
   "cell_type": "code",
   "execution_count": 333,
   "metadata": {},
   "outputs": [],
   "source": [
    "test_input_tensor = b[0].type(torch.FloatTensor)"
   ]
  },
  {
   "cell_type": "code",
   "execution_count": 334,
   "metadata": {},
   "outputs": [],
   "source": [
    "test_labels = b[1].cpu().data.numpy()"
   ]
  },
  {
   "cell_type": "code",
   "execution_count": 335,
   "metadata": {},
   "outputs": [
    {
     "name": "stdout",
     "output_type": "stream",
     "text": [
      "Accuracy: 0.734375\n"
     ]
    }
   ],
   "source": [
    "out_probs = net(test_input_tensor).detach().cpu().numpy()\n",
    "out_classes = np.argmax(out_probs, axis=1)\n",
    "train_accuracy = sum(out_classes == test_labels) / len(test_labels)\n",
    "print(\"Accuracy:\", train_accuracy )"
   ]
  },
  {
   "cell_type": "code",
   "execution_count": 43,
   "metadata": {},
   "outputs": [
    {
     "ename": "NameError",
     "evalue": "name 'mlflow' is not defined",
     "output_type": "error",
     "traceback": [
      "\u001b[0;31m---------------------------------------------------------------------------\u001b[0m",
      "\u001b[0;31mNameError\u001b[0m                                 Traceback (most recent call last)",
      "\u001b[0;32m<ipython-input-43-0cd6e31425bb>\u001b[0m in \u001b[0;36m<module>\u001b[0;34m\u001b[0m\n\u001b[0;32m----> 1\u001b[0;31m \u001b[0mmlflow\u001b[0m\u001b[0;34m.\u001b[0m\u001b[0mlog_metric\u001b[0m\u001b[0;34m(\u001b[0m\u001b[0;34m'Train Accuracy'\u001b[0m\u001b[0;34m,\u001b[0m \u001b[0mtrain_accuracy\u001b[0m\u001b[0;34m)\u001b[0m\u001b[0;34m\u001b[0m\u001b[0;34m\u001b[0m\u001b[0m\n\u001b[0m",
      "\u001b[0;31mNameError\u001b[0m: name 'mlflow' is not defined"
     ]
    }
   ],
   "source": [
    "mlflow.log_metric('Train Accuracy', train_accuracy)"
   ]
  },
  {
   "cell_type": "code",
   "execution_count": 336,
   "metadata": {},
   "outputs": [],
   "source": [
    "ig = IntegratedGradients(net)"
   ]
  },
  {
   "cell_type": "code",
   "execution_count": 337,
   "metadata": {},
   "outputs": [],
   "source": [
    "#test_input_tensor.requires_grad_()\n",
    "attr, delta = ig.attribute(test_input_tensor,target=1, return_convergence_delta=True)\n",
    "attr = attr.detach().numpy()"
   ]
  },
  {
   "cell_type": "code",
   "execution_count": 288,
   "metadata": {},
   "outputs": [
    {
     "ename": "NameError",
     "evalue": "name 'feature_filter' is not defined",
     "output_type": "error",
     "traceback": [
      "\u001b[0;31m---------------------------------------------------------------------------\u001b[0m",
      "\u001b[0;31mNameError\u001b[0m                                 Traceback (most recent call last)",
      "\u001b[0;32m/tmp/ipykernel_25625/3312364972.py\u001b[0m in \u001b[0;36m<module>\u001b[0;34m\u001b[0m\n\u001b[0;32m----> 1\u001b[0;31m \u001b[0mfeature_names\u001b[0m \u001b[0;34m=\u001b[0m \u001b[0mfeature_names\u001b[0m\u001b[0;34m[\u001b[0m\u001b[0mfeature_filter\u001b[0m\u001b[0;34m]\u001b[0m\u001b[0;34m\u001b[0m\u001b[0;34m\u001b[0m\u001b[0m\n\u001b[0m",
      "\u001b[0;31mNameError\u001b[0m: name 'feature_filter' is not defined"
     ]
    }
   ],
   "source": [
    "feature_names = feature_names[feature_filter]"
   ]
  },
  {
   "cell_type": "code",
   "execution_count": 339,
   "metadata": {},
   "outputs": [
    {
     "data": {
      "image/png": "[encoded data removed]",
      "text/plain": [
       "<Figure size 432x288 with 1 Axes>"
      ]
     },
     "metadata": {
      "needs_background": "light"
     },
     "output_type": "display_data"
    }
   ],
   "source": [
    "# Helper method to print importances and visualize distribution\n",
    "def visualize_importances(feature_names, importances, title=\"Average Feature Importances\", plot=True, axis_title=\"Features\"):\n",
    "    pd.DataFrame(zip(feature_names, np.mean(importances, axis=(0,2)))).sort_values(1, ascending=False)[:25].plot.barh(x=0, y=1)\n",
    "\n",
    "visualize_importances(feature_names, attr)"
   ]
  },
  {
   "cell_type": "code",
   "execution_count": 50,
   "metadata": {},
   "outputs": [],
   "source": [
    "top_features =  pd.DataFrame(zip(feature_names, np.mean(attr, axis=(0,2))), columns=['Feature', 'Importance']).sort_values('Importance', ascending=False)"
   ]
  },
  {
   "cell_type": "code",
   "execution_count": 51,
   "metadata": {},
   "outputs": [],
   "source": [
    "top_features.to_csv('../Scratch/Notebooks/' + '/FeatureImportances.csv')"
   ]
  },
  {
   "cell_type": "code",
   "execution_count": 29,
   "metadata": {},
   "outputs": [],
   "source": [
    "top_features = pd.read_csv('../Scratch/Notebooks/' + '/FeatureImportances.csv')"
   ]
  },
  {
   "cell_type": "code",
   "execution_count": 85,
   "metadata": {},
   "outputs": [],
   "source": [
    "orig_X = X"
   ]
  },
  {
   "cell_type": "code",
   "execution_count": 86,
   "metadata": {},
   "outputs": [],
   "source": [
    "orig_feature_means = feature_means"
   ]
  },
  {
   "cell_type": "code",
   "execution_count": 87,
   "metadata": {},
   "outputs": [],
   "source": [
    "orig_feature_std = feature_std"
   ]
  },
  {
   "cell_type": "code",
   "execution_count": 134,
   "metadata": {},
   "outputs": [],
   "source": [
    "mlflow.end_run()"
   ]
  },
  {
   "cell_type": "code",
   "execution_count": 88,
   "metadata": {},
   "outputs": [],
   "source": [
    "feature_filter = top_features[:100].index"
   ]
  },
  {
   "cell_type": "code",
   "execution_count": 89,
   "metadata": {},
   "outputs": [],
   "source": [
    "X = orig_X[:, feature_filter, :]\n",
    "feature_means = orig_feature_means[feature_filter]\n",
    "feature_std = orig_feature_std[feature_filter]"
   ]
  },
  {
   "cell_type": "code",
   "execution_count": 35,
   "metadata": {},
   "outputs": [],
   "source": [
    "fill_values = torch.zeros_like(TSTensor(X))\n",
    "for i in range(0,X.shape[1]):\n",
    "    fill_values[:,i,:] = torch.full_like(TSTensor(X[:,i,:]), feature_means[i])\n",
    "        \n",
    "X_noNan = torch.where(torch.isnan(TSTensor(X)), fill_values, TSTensor(X))"
   ]
  },
  {
   "cell_type": "code",
   "execution_count": 40,
   "metadata": {},
   "outputs": [
    {
     "data": {
      "text/plain": [
       "torch.Size([6000, 100, 30])"
      ]
     },
     "execution_count": 40,
     "metadata": {},
     "output_type": "execute_result"
    }
   ],
   "source": [
    "X_noNan[:,:,-30:].shape"
   ]
  }
 ],
 "metadata": {
  "kernelspec": {
   "display_name": "Python [conda env:sktime]",
   "language": "python",
   "name": "conda-env-sktime-py"
  },
  "language_info": {
   "codemirror_mode": {
    "name": "ipython",
    "version": 3
   },
   "file_extension": ".py",
   "mimetype": "text/x-python",
   "name": "python",
   "nbconvert_exporter": "python",
   "pygments_lexer": "ipython3",
   "version": "3.8.11"
  }
 },
 "nbformat": 4,
 "nbformat_minor": 4
}
