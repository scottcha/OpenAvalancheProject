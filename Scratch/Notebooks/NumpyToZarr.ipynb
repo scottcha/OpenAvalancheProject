{
 "cells": [
  {
   "cell_type": "code",
   "execution_count": 1,
   "id": "julian-deposit",
   "metadata": {},
   "outputs": [],
   "source": [
    "#test_ignore\n",
    "%reload_ext autoreload\n",
    "%autoreload 2\n",
    "%matplotlib inline"
   ]
  },
  {
   "cell_type": "code",
   "execution_count": 2,
   "id": "handmade-causing",
   "metadata": {},
   "outputs": [],
   "source": [
    "from tsai.all import *\n",
    "import zarr"
   ]
  },
  {
   "cell_type": "code",
   "execution_count": 3,
   "id": "adaptive-attribute",
   "metadata": {},
   "outputs": [],
   "source": [
    "def assign_in_chunks_with_concat(a, b, concat_start = 0, chunksize='auto', inplace=True, verbose=True):\n",
    "    \"\"\"Assigns values in b to an array-like object a using chunks to avoid memory overload.\n",
    "\n",
    "    The resulting a retains it's dtype and share it's memory.\n",
    "    a: array-like object\n",
    "    b: may be an integer, float, str, 'rand' (for random data), or another array like object.\n",
    "    chunksize: is the size of chunks. If 'auto' chunks will have around 1GB each.\n",
    "    \"\"\"\n",
    "\n",
    "    if b != 'rand' and not isinstance(b, (Iterable, Generator)):\n",
    "        a[:] = b\n",
    "    else:\n",
    "        shape = b.shape\n",
    "        dtype = a.dtype\n",
    "        if chunksize == \"auto\":\n",
    "            chunksize = chunks_calculator(shape, dtype)\n",
    "            chunksize = shape[0] if not chunksize else  chunksize[0]\n",
    "        for i in progress_bar(range((shape[0] - 1) // chunksize + 1), display=verbose, leave=False):\n",
    "            start, end = i * chunksize, min(shape[0], (i + 1) * chunksize)\n",
    "            if start >= shape[0]: break\n",
    "            if b == 'rand':\n",
    "                a[start:end] = np.random.rand(end - start, *shape[1:])\n",
    "            else:\n",
    "                a[start + concat_start:end + concat_start] = b[start:end]\n",
    "    if not inplace: return a"
   ]
  },
  {
   "cell_type": "code",
   "execution_count": 5,
   "id": "unlimited-senate",
   "metadata": {},
   "outputs": [],
   "source": [
    "file_names = ['/media/scottcha/Data2/OAPMLData//5.MLData/Xtrain_batch_0_ca_co_day1above_3h_on_disk.npy',\n",
    " '/media/scottcha/Data2/OAPMLData//5.MLData/Xtrain_batch_1_ca_co_day1above_3h_on_disk.npy',\n",
    " '/media/scottcha/Data2/OAPMLData//5.MLData/Xtrain_batch_2_ca_co_day1above_3h_on_disk.npy',\n",
    " '/media/scottcha/Data2/OAPMLData//5.MLData/Xtrain_batch_3_ca_co_day1above_3h_on_disk.npy',\n",
    " '/media/scottcha/Data2/OAPMLData//5.MLData/Xtrain_batch_4_ca_co_day1above_3h_on_disk.npy',\n",
    " '/media/scottcha/Data2/OAPMLData//5.MLData/Xtrain_batch_5_ca_co_day1above_3h_on_disk.npy',\n",
    " '/media/scottcha/Data2/OAPMLData//5.MLData/Xtrain_batch_6_ca_co_day1above_3h_on_disk.npy',\n",
    " '/media/scottcha/Data2/OAPMLData//5.MLData/Xtrain_batch_7_ca_co_day1above_3h_on_disk.npy',\n",
    " '/media/scottcha/Data2/OAPMLData//5.MLData/Xtrain_batch_8_ca_co_day1above_3h_on_disk.npy',\n",
    " '/media/scottcha/Data2/OAPMLData//5.MLData/Xtrain_batch_9_ca_co_day1above_3h_on_disk.npy',\n",
    " '/media/scottcha/Data2/OAPMLData//5.MLData/Xtest_batch_0_ca_co_day1above_3h_on_disk.npy',\n",
    " '/media/scottcha/Data2/OAPMLData//5.MLData/Xtest_batch_1_ca_co_day1above_3h_on_disk.npy']"
   ]
  },
  {
   "cell_type": "code",
   "execution_count": 9,
   "id": "lucky-scheduling",
   "metadata": {},
   "outputs": [],
   "source": [
    "zarr_arr = zarr.open('/media/scottcha/Data2/OAPMLData/5.MLData/tmp.zarr', mode='w', chunks=(1,-1, -1), shape=(12*2500, 774, 1441), dtype=np.float32)"
   ]
  },
  {
   "cell_type": "code",
   "execution_count": 6,
   "id": "renewable-concentration",
   "metadata": {},
   "outputs": [
    {
     "data": {
      "text/html": [],
      "text/plain": [
       "<IPython.core.display.HTML object>"
      ]
     },
     "metadata": {},
     "output_type": "display_data"
    },
    {
     "data": {
      "text/html": [],
      "text/plain": [
       "<IPython.core.display.HTML object>"
      ]
     },
     "metadata": {},
     "output_type": "display_data"
    },
    {
     "data": {
      "text/html": [],
      "text/plain": [
       "<IPython.core.display.HTML object>"
      ]
     },
     "metadata": {},
     "output_type": "display_data"
    },
    {
     "data": {
      "text/html": [],
      "text/plain": [
       "<IPython.core.display.HTML object>"
      ]
     },
     "metadata": {},
     "output_type": "display_data"
    },
    {
     "data": {
      "text/html": [],
      "text/plain": [
       "<IPython.core.display.HTML object>"
      ]
     },
     "metadata": {},
     "output_type": "display_data"
    },
    {
     "data": {
      "text/html": [],
      "text/plain": [
       "<IPython.core.display.HTML object>"
      ]
     },
     "metadata": {},
     "output_type": "display_data"
    },
    {
     "data": {
      "text/html": [],
      "text/plain": [
       "<IPython.core.display.HTML object>"
      ]
     },
     "metadata": {},
     "output_type": "display_data"
    },
    {
     "data": {
      "text/html": [],
      "text/plain": [
       "<IPython.core.display.HTML object>"
      ]
     },
     "metadata": {},
     "output_type": "display_data"
    },
    {
     "data": {
      "text/html": [],
      "text/plain": [
       "<IPython.core.display.HTML object>"
      ]
     },
     "metadata": {},
     "output_type": "display_data"
    },
    {
     "data": {
      "text/html": [],
      "text/plain": [
       "<IPython.core.display.HTML object>"
      ]
     },
     "metadata": {},
     "output_type": "display_data"
    },
    {
     "data": {
      "text/html": [],
      "text/plain": [
       "<IPython.core.display.HTML object>"
      ]
     },
     "metadata": {},
     "output_type": "display_data"
    },
    {
     "data": {
      "text/html": [],
      "text/plain": [
       "<IPython.core.display.HTML object>"
      ]
     },
     "metadata": {},
     "output_type": "display_data"
    }
   ],
   "source": [
    "file_size = 2500\n",
    "for fi in range(len(file_names)):\n",
    "    print('On ' + str(fi))\n",
    "    tmpnp = np.load(file_names[fi], mmap_mode='r')\n",
    "    assign_in_chunks_with_concat(zarr_arr, tmpnp, concat_start=file_size * fi)"
   ]
  },
  {
   "cell_type": "code",
   "execution_count": 9,
   "id": "irish-bulgaria",
   "metadata": {},
   "outputs": [
    {
     "data": {
      "text/html": [],
      "text/plain": [
       "<IPython.core.display.HTML object>"
      ]
     },
     "metadata": {},
     "output_type": "display_data"
    }
   ],
   "source": []
  },
  {
   "cell_type": "code",
   "execution_count": 10,
   "id": "finite-trace",
   "metadata": {},
   "outputs": [],
   "source": [
    "tmpnp2 = np.load('/media/scottcha/Data2/OAPMLData//5.MLData/Xtrain_batch_1_ca_co_day1above_3h_on_disk.npy', mmap_mode='r')"
   ]
  },
  {
   "cell_type": "code",
   "execution_count": 11,
   "id": "generous-sweet",
   "metadata": {},
   "outputs": [
    {
     "data": {
      "text/plain": [
       "(5000, 774, 1441)"
      ]
     },
     "execution_count": 11,
     "metadata": {},
     "output_type": "execute_result"
    }
   ],
   "source": [
    "zarr_arr.shape"
   ]
  },
  {
   "cell_type": "code",
   "execution_count": 20,
   "id": "pregnant-airport",
   "metadata": {},
   "outputs": [
    {
     "data": {
      "text/plain": [
       "array([[     nan,      nan,      nan, ..., 8.20e-05, 1.26e-04, 1.08e-04],\n",
       "       [     nan,      nan,      nan, ..., 8.20e-05, 1.26e-04, 1.08e-04],\n",
       "       [     nan,      nan,      nan, ..., 8.20e-05, 1.26e-04, 1.08e-04],\n",
       "       ...,\n",
       "       [     nan,      nan,      nan, ..., 3.50e+01, 4.10e+01, 4.20e+01],\n",
       "       [     nan,      nan,      nan, ..., 3.50e+01, 4.10e+01, 4.20e+01],\n",
       "       [     nan,      nan,      nan, ..., 3.50e+01, 4.10e+01, 4.20e+01]],\n",
       "      dtype=float32)"
      ]
     },
     "execution_count": 20,
     "metadata": {},
     "output_type": "execute_result"
    }
   ],
   "source": [
    "zarr_arr[1]"
   ]
  },
  {
   "cell_type": "code",
   "execution_count": 17,
   "id": "checked-cholesterol",
   "metadata": {},
   "outputs": [
    {
     "data": {
      "text/html": [],
      "text/plain": [
       "<IPython.core.display.HTML object>"
      ]
     },
     "metadata": {},
     "output_type": "display_data"
    }
   ],
   "source": [
    "assign_in_chunks_with_concat(zarr_arr, tmpnp2, concat_start=2500)"
   ]
  },
  {
   "cell_type": "code",
   "execution_count": null,
   "id": "focused-advocate",
   "metadata": {},
   "outputs": [],
   "source": []
  }
 ],
 "metadata": {
  "kernelspec": {
   "display_name": "Python [conda env:tsai.22nocaputm]",
   "language": "python",
   "name": "conda-env-tsai.22nocaputm-py"
  },
  "language_info": {
   "codemirror_mode": {
    "name": "ipython",
    "version": 3
   },
   "file_extension": ".py",
   "mimetype": "text/x-python",
   "name": "python",
   "nbconvert_exporter": "python",
   "pygments_lexer": "ipython3",
   "version": "3.8.11"
  }
 },
 "nbformat": 4,
 "nbformat_minor": 5
}
